{
 "cells": [
  {
   "cell_type": "code",
   "execution_count": 6,
   "id": "ae339eb4-eac2-42cd-9345-e42ee1d99e0a",
   "metadata": {},
   "outputs": [
    {
     "name": "stdin",
     "output_type": "stream",
     "text": [
      " 1 2 3 4 5 6\n"
     ]
    },
    {
     "name": "stdout",
     "output_type": "stream",
     "text": [
      "[6, 5, 4, 3, 2, 1]\n"
     ]
    }
   ],
   "source": [
    "#reverse a list without using methods and functions\n",
    "def reverse_list(l):\n",
    "    i , j = 0, len(l) -1\n",
    "    while i<j:\n",
    "        l[i], l[j] = l[j], l[i]\n",
    "        i+=1\n",
    "        j -=1\n",
    "    return l\n",
    "lst=list(map(int,input().split()))\n",
    "print(reverse_list(lst))"
   ]
  },
  {
   "cell_type": "code",
   "execution_count": 4,
   "id": "cbac2ceb-e311-4882-aabd-feff9db14d72",
   "metadata": {},
   "outputs": [
    {
     "name": "stdout",
     "output_type": "stream",
     "text": [
      "[1, 5, 4, 3, 2, 6]\n"
     ]
    }
   ],
   "source": [
    "l=[6, 2, 3, 4, 5, 1]\n",
    "res=[]\n",
    "for i in range(len(l)-1,-1,-1):\n",
    "    res.append(l[i])\n",
    "print(res)"
   ]
  },
  {
   "cell_type": "code",
   "execution_count": 8,
   "id": "33375b89-9e5f-4a70-9870-2cd51deb55f6",
   "metadata": {},
   "outputs": [
    {
     "name": "stdout",
     "output_type": "stream",
     "text": [
      "10\n",
      "5\n"
     ]
    }
   ],
   "source": [
    "#pass by value\n",
    "def add(x):\n",
    "    x=x+5\n",
    "    return x\n",
    "a=5\n",
    "res=add(a)\n",
    "print(res)\n",
    "print(a)"
   ]
  },
  {
   "cell_type": "code",
   "execution_count": 9,
   "id": "66c78d9d-9aa8-442d-a6f9-1d89319c0f51",
   "metadata": {},
   "outputs": [
    {
     "name": "stdout",
     "output_type": "stream",
     "text": [
      "[1, 2, 3]\n",
      "[1, 2, 3, 30]\n"
     ]
    }
   ],
   "source": [
    "#pass by reference\n",
    "def add_ele(lst,ele):\n",
    "    lst.append(ele)\n",
    "l=[1,2,3]\n",
    "ele=30\n",
    "print(l)\n",
    "add_ele(l,ele)\n",
    "print(l)"
   ]
  },
  {
   "cell_type": "code",
   "execution_count": 10,
   "id": "96f9b91b-46cd-42cf-aa8d-27a62c25ccdd",
   "metadata": {},
   "outputs": [
    {
     "name": "stdout",
     "output_type": "stream",
     "text": [
      "[1, 2, 3]\n",
      "[1, 2, 3]\n"
     ]
    }
   ],
   "source": [
    "def add_ele(lst,ele):\n",
    "    lst=[10,20,30]\n",
    "l=[1,2,3]\n",
    "ele=30\n",
    "print(l)\n",
    "add_ele(l,ele)\n",
    "print(l)"
   ]
  },
  {
   "cell_type": "code",
   "execution_count": 4,
   "id": "dda650b3-7e63-4d02-9f1d-ea543b48d43e",
   "metadata": {},
   "outputs": [
    {
     "name": "stdout",
     "output_type": "stream",
     "text": [
      "Inside function: [1, 2, 3, 30]\n",
      "outside function: [1, 2, 3, 30]\n"
     ]
    }
   ],
   "source": [
    "#pass by reference\n",
    "def add_ele(lst,ele):\n",
    "    lst.append(ele)\n",
    "    print(\"Inside function:\",lst)\n",
    "l=[1,2,3]\n",
    "ele=30\n",
    "add_ele(l,ele)\n",
    "print(\"outside function:\",l)"
   ]
  },
  {
   "cell_type": "markdown",
   "id": "8c30bfb3-a819-4fbd-b786-c6f7878d36e2",
   "metadata": {},
   "source": [
    "### Rucursion"
   ]
  },
  {
   "cell_type": "code",
   "execution_count": 6,
   "id": "9b0a660a-3cb7-4317-992a-6ef01d496399",
   "metadata": {},
   "outputs": [
    {
     "name": "stdout",
     "output_type": "stream",
     "text": [
      "5\n",
      "4\n",
      "3\n",
      "2\n"
     ]
    },
    {
     "data": {
      "text/plain": [
       "1"
      ]
     },
     "execution_count": 6,
     "metadata": {},
     "output_type": "execute_result"
    }
   ],
   "source": [
    "def fun(x):\n",
    "    if x==1:\n",
    "        return 1\n",
    "    print(x)\n",
    "    return fun(x-1)\n",
    "fun(5)"
   ]
  },
  {
   "cell_type": "code",
   "execution_count": 7,
   "id": "9cd88913-2cc0-4a7c-9c93-1ceff9408900",
   "metadata": {},
   "outputs": [
    {
     "name": "stdout",
     "output_type": "stream",
     "text": [
      "3628800\n"
     ]
    }
   ],
   "source": [
    "#example for recursive function (factorial of a number)\n",
    "def factorial(x):\n",
    "    if x==0  or x==1:#base condition\n",
    "        return 1\n",
    "    else:\n",
    "        return x * factorial(x-1)#recursive call\n",
    "print(factorial(10))"
   ]
  },
  {
   "cell_type": "code",
   "execution_count": 5,
   "id": "bcc064b0-7c80-4abf-ae13-765ed679fc65",
   "metadata": {},
   "outputs": [
    {
     "name": "stdout",
     "output_type": "stream",
     "text": [
      "8\n"
     ]
    }
   ],
   "source": [
    "def fibonacci(x):\n",
    "    if x==0:\n",
    "        return 0\n",
    "    elif x==1:\n",
    "        return 1\n",
    "    else:\n",
    "        return fibonacci(x-1)+fibonacci(x-2)\n",
    "print(fibonacci(6))"
   ]
  },
  {
   "cell_type": "code",
   "execution_count": 31,
   "id": "b20e0e6a-6a0a-45e4-800c-b12487281b94",
   "metadata": {},
   "outputs": [
    {
     "name": "stdout",
     "output_type": "stream",
     "text": [
      "1\n",
      "2\n",
      "3\n",
      "4\n",
      "5\n"
     ]
    }
   ],
   "source": [
    "def fun(x):\n",
    "    if x==1:\n",
    "        print(1)\n",
    "        return\n",
    "    fun(x-1)\n",
    "    print(x)\n",
    "fun(5)"
   ]
  },
  {
   "cell_type": "code",
   "execution_count": 32,
   "id": "372b7173-90be-4a6d-b327-514f65ef9936",
   "metadata": {},
   "outputs": [
    {
     "name": "stdout",
     "output_type": "stream",
     "text": [
      "5\n",
      "4\n",
      "3\n",
      "2\n",
      "1\n"
     ]
    }
   ],
   "source": [
    "def fun(x):\n",
    "    if x==1:\n",
    "        print(1)\n",
    "        return\n",
    "    print(x)\n",
    "    fun(x-1)\n",
    "    \n",
    "fun(5)"
   ]
  },
  {
   "cell_type": "code",
   "execution_count": 36,
   "id": "586f84cb-49c1-4f85-b8b9-67ec23662c96",
   "metadata": {},
   "outputs": [
    {
     "name": "stdout",
     "output_type": "stream",
     "text": [
      "0\n",
      "2\n",
      "4\n",
      "6\n",
      "8\n",
      "10\n"
     ]
    }
   ],
   "source": [
    "#printing even numbers\n",
    "def fun(x):\n",
    "    if x==0 or x==1:\n",
    "        print(0)\n",
    "        return\n",
    "    fun(x-2)\n",
    "    print(x)\n",
    "fun(10)"
   ]
  },
  {
   "cell_type": "code",
   "execution_count": 40,
   "id": "1bf513c6-92f1-424e-8e29-9e4577a0ebe0",
   "metadata": {},
   "outputs": [
    {
     "name": "stdout",
     "output_type": "stream",
     "text": [
      "0\n",
      "2\n",
      "4\n",
      "6\n",
      "8\n",
      "10\n"
     ]
    }
   ],
   "source": [
    "def fun(x):\n",
    "    if x==0:\n",
    "        print(0)\n",
    "        return\n",
    "    elif x==1:\n",
    "        print(1)\n",
    "        return\n",
    "    elif x%2==0:\n",
    "        fun(x-2)\n",
    "    else:\n",
    "        fun(x-1)\n",
    "    print(x)\n",
    "fun(10)"
   ]
  },
  {
   "cell_type": "code",
   "execution_count": 42,
   "id": "ecb3b311-aa51-4480-a202-f295c14ccf76",
   "metadata": {},
   "outputs": [
    {
     "name": "stdout",
     "output_type": "stream",
     "text": [
      "1\n",
      "3\n",
      "5\n",
      "7\n",
      "9\n"
     ]
    }
   ],
   "source": [
    "def fun(x):\n",
    "    if x==0:\n",
    "        print(0)\n",
    "        return\n",
    "    elif x==1:\n",
    "        print(1)\n",
    "        return\n",
    "    elif x%2==0:\n",
    "        x=x-1\n",
    "        fun(x-2)\n",
    "    else:\n",
    "        fun(x-2)\n",
    "    print(x)\n",
    "fun(10)"
   ]
  },
  {
   "cell_type": "code",
   "execution_count": 51,
   "id": "176058de-ce30-41db-9d6a-2ca630ce70c5",
   "metadata": {},
   "outputs": [
    {
     "name": "stdout",
     "output_type": "stream",
     "text": [
      "11\n",
      "9\n",
      "7\n",
      "5\n",
      "3\n",
      "1\n"
     ]
    }
   ],
   "source": [
    "def fun(x):\n",
    "    if x==0:\n",
    "        print(0)\n",
    "        return\n",
    "    elif x==1:\n",
    "        print(1)\n",
    "        return\n",
    "    elif x%2==0:\n",
    "        x=x-1\n",
    "        fun(x-2)\n",
    "    else:\n",
    "        print(x)\n",
    "        fun(x-2)\n",
    "fun(11)"
   ]
  },
  {
   "cell_type": "code",
   "execution_count": 48,
   "id": "7a1d0b9e-6fad-4e4d-86f4-3cf0c1ea1b67",
   "metadata": {},
   "outputs": [
    {
     "name": "stdout",
     "output_type": "stream",
     "text": [
      "10\n",
      "8\n",
      "6\n",
      "4\n",
      "2\n",
      "0\n"
     ]
    }
   ],
   "source": [
    "def fun(x):\n",
    "    if x==0:\n",
    "        print(0)\n",
    "        return\n",
    "    elif x==1:\n",
    "        print(1)\n",
    "        return\n",
    "    elif x%2==0:\n",
    "        print(x)\n",
    "        fun(x-2)\n",
    "    else:\n",
    "        fun(x-1)\n",
    "    print(x)\n",
    "fun(10)"
   ]
  },
  {
   "cell_type": "code",
   "execution_count": 9,
   "id": "11949be0-61c2-4da1-a50c-65c62a12f89f",
   "metadata": {},
   "outputs": [
    {
     "name": "stdout",
     "output_type": "stream",
     "text": [
      "25\n",
      "64\n",
      "81\n"
     ]
    }
   ],
   "source": [
    "#Lambda function\n",
    "#Anonymous function\n",
    "square =lambda x: x**2\n",
    "print(square(5))\n",
    "print(square(8))\n",
    "print(square(9))"
   ]
  },
  {
   "cell_type": "code",
   "execution_count": 10,
   "id": "dde72ea0-c570-4fb1-a304-6739391cdf31",
   "metadata": {},
   "outputs": [
    {
     "name": "stdout",
     "output_type": "stream",
     "text": [
      "Positive\n",
      "Negative\n"
     ]
    }
   ],
   "source": [
    "#if else in single line\n",
    "#True_statements if condition else False_statement\n",
    "state =lambda x: \"Positive\" if x>=0 else \"Negative\"\n",
    "print(state(5))\n",
    "print(state(-8))"
   ]
  },
  {
   "cell_type": "code",
   "execution_count": 19,
   "id": "d6491741-bed4-4fcd-9500-48049121e104",
   "metadata": {},
   "outputs": [
    {
     "name": "stdout",
     "output_type": "stream",
     "text": [
      "[1, 4, 9, 16, 25, 36]\n"
     ]
    }
   ],
   "source": [
    "#map with lambda\n",
    "l=[1,2,3,4,5,6]\n",
    "lst=list(map(lambda x: x**2 , l))\n",
    "print(lst)"
   ]
  },
  {
   "cell_type": "code",
   "execution_count": 20,
   "id": "79b1a18e-1d8a-428f-9725-4cebe499d5b7",
   "metadata": {},
   "outputs": [
    {
     "name": "stdout",
     "output_type": "stream",
     "text": [
      "[1, 3, 5, 6]\n"
     ]
    }
   ],
   "source": [
    "#filter with lambda\n",
    "l=[1,-2,3,-4,5,6]\n",
    "lst=list(filter(lambda x: x>=0 , l))\n",
    "print(lst)"
   ]
  },
  {
   "cell_type": "code",
   "execution_count": 21,
   "id": "8fb2e476-b65e-4d15-8581-d1943eb5895b",
   "metadata": {},
   "outputs": [
    {
     "name": "stdout",
     "output_type": "stream",
     "text": [
      "[54, 74, 24]\n"
     ]
    }
   ],
   "source": [
    "#seperate even numbers using lambda\n",
    "l=[23,43,54,65,74,24]\n",
    "lst=list(filter(lambda x: x%2==0 ,l))\n",
    "print(lst)"
   ]
  },
  {
   "cell_type": "code",
   "execution_count": 29,
   "id": "0fb08ba9-f8c4-4d9c-956e-12b2592ca548",
   "metadata": {},
   "outputs": [
    {
     "name": "stdout",
     "output_type": "stream",
     "text": [
      "AWbCcjyu\n"
     ]
    }
   ],
   "source": [
    "#list of numbers to string\n",
    "l=[65,87,98,67,99,106,121,117]\n",
    "print(\"\".join(list(map(lambda x: chr(x),l))))"
   ]
  },
  {
   "cell_type": "code",
   "execution_count": 30,
   "id": "a8956649-ce16-4ff9-9ecf-e93f832b9c67",
   "metadata": {},
   "outputs": [
    {
     "name": "stdout",
     "output_type": "stream",
     "text": [
      "['apple', 'banana', 'cherry', 'orange']\n"
     ]
    }
   ],
   "source": [
    "l=['apple', 'orange','cherry','banana']\n",
    "l.sort()\n",
    "print(l)"
   ]
  },
  {
   "cell_type": "code",
   "execution_count": 32,
   "id": "c4e7f21e-1577-4c59-bdfc-397310f3fb3d",
   "metadata": {},
   "outputs": [
    {
     "name": "stdout",
     "output_type": "stream",
     "text": [
      "['apple', 'orange', 'cherry', 'banana']\n"
     ]
    }
   ],
   "source": [
    "#sortwith lambda function\n",
    "l=['apple', 'orange','cherry','banana']\n",
    "l.sort(key =lambda x:len(x))\n",
    "print(l)"
   ]
  },
  {
   "cell_type": "code",
   "execution_count": 33,
   "id": "17f39a6b-6f73-4737-9321-9ba2ea1c20f1",
   "metadata": {},
   "outputs": [
    {
     "name": "stdout",
     "output_type": "stream",
     "text": [
      "['apple', 'orange', 'banana', 'cherry']\n"
     ]
    }
   ],
   "source": [
    "l=['orange','banana','cherry','apple']\n",
    "l.sort(key=lambda x:len(x))\n",
    "print(l)"
   ]
  },
  {
   "cell_type": "code",
   "execution_count": 42,
   "id": "22b4ebf0-b2fc-4bc2-86ac-a23c58e36315",
   "metadata": {},
   "outputs": [
    {
     "name": "stdout",
     "output_type": "stream",
     "text": [
      "{'c': 1, 'o': 1, 'd': 1, 'e': 1, 'g': 1, 'n': 2, 'a': 1}\n"
     ]
    }
   ],
   "source": [
    "#frequency of character using lambda\n",
    "s=\"codegnan\"\n",
    "d={}\n",
    "for char in s:\n",
    "    if char in d:\n",
    "        d[char]+=1\n",
    "    else:\n",
    "        d[char]=1\n",
    "print(d)"
   ]
  },
  {
   "cell_type": "code",
   "execution_count": 43,
   "id": "088ef9bc-e0c3-4170-a5be-3238340041d8",
   "metadata": {},
   "outputs": [
    {
     "name": "stdout",
     "output_type": "stream",
     "text": [
      "{'H': 1, 'e': 1, 'l': 3, 'o': 2, ' ': 1, 'w': 1, 'r': 1, 'd': 1}\n"
     ]
    }
   ],
   "source": [
    "s=\"Hello world\"\n",
    "d={}\n",
    "for char in s:\n",
    "    if char in d:\n",
    "        d[char]+=1\n",
    "    else:\n",
    "        d[char]=1\n",
    "print(d)"
   ]
  },
  {
   "cell_type": "code",
   "execution_count": 52,
   "id": "d86971ec-e64a-436b-9a97-76769d586dc4",
   "metadata": {},
   "outputs": [
    {
     "name": "stdout",
     "output_type": "stream",
     "text": [
      "d -10\n",
      "b -6\n",
      "c -5\n",
      "a -5\n"
     ]
    }
   ],
   "source": [
    "#sorted based on frequency using lambda\n",
    "s=\"aaaaabbbbbbcccccdddddddddd\"\n",
    "d={}\n",
    "for char in s:\n",
    "    if char in d:\n",
    "        d[char]+=1\n",
    "    else:\n",
    "        d[char]=1\n",
    "sorted_dict=sorted(d.items(),key=lambda x :(x[1],x[0]),reverse=True)\n",
    "for key,val in sorted_dict:\n",
    "    print(f'{key} -{val}')\n"
   ]
  },
  {
   "cell_type": "code",
   "execution_count": 54,
   "id": "46f30971-b812-4dc6-a581-df640d6b9793",
   "metadata": {},
   "outputs": [
    {
     "name": "stdout",
     "output_type": "stream",
     "text": [
      "dict_items([('a', 5), ('b', 6), ('c', 5), ('d', 10)])\n",
      "d -10\n",
      "b -6\n",
      "c -5\n",
      "a -5\n"
     ]
    }
   ],
   "source": [
    "s=\"aaaaabbbbbbcccccdddddddddd\"\n",
    "d={}\n",
    "for char in s:\n",
    "    if char in d:\n",
    "        d[char]+=1\n",
    "    else:\n",
    "        d[char]=1\n",
    "print(d.items())\n",
    "sorted_dict=sorted(d.items(),key=lambda x :(x[1],x[0]),reverse=True)\n",
    "for key,val in sorted_dict:\n",
    "    print(f'{key} -{val}')"
   ]
  },
  {
   "cell_type": "code",
   "execution_count": 55,
   "id": "9591fe58-d746-43e8-ab73-8a54cf560fe3",
   "metadata": {},
   "outputs": [
    {
     "name": "stdout",
     "output_type": "stream",
     "text": [
      "[2, 4, 6, 8, 10]\n"
     ]
    }
   ],
   "source": [
    "#List comprehesion\n",
    "#1-10 even numbers\n",
    "l=[x for x in range (1,11) if x%2==0]\n",
    "print(l)"
   ]
  },
  {
   "cell_type": "code",
   "execution_count": 56,
   "id": "2b744b9f-ee30-4614-9672-54f76c34ce83",
   "metadata": {},
   "outputs": [
    {
     "name": "stdout",
     "output_type": "stream",
     "text": [
      "[1, 3, 5, 7, 9, 11]\n"
     ]
    }
   ],
   "source": [
    "l=[x for x in range(1,13) if x%2!=0]\n",
    "print(l)"
   ]
  },
  {
   "cell_type": "code",
   "execution_count": 58,
   "id": "ed69b48e-cd51-44e5-8d76-1ad352967cb7",
   "metadata": {},
   "outputs": [
    {
     "name": "stdout",
     "output_type": "stream",
     "text": [
      "[1, 3, 5, 7, 9]\n"
     ]
    }
   ],
   "source": [
    "l=[x for x in range (0,11,2) ]\n",
    "print(l)"
   ]
  },
  {
   "cell_type": "code",
   "execution_count": 60,
   "id": "2811cce3-69a9-40df-993f-898d4623b96f",
   "metadata": {},
   "outputs": [
    {
     "name": "stdout",
     "output_type": "stream",
     "text": [
      "[1, 3, 5, 7, 9]\n"
     ]
    }
   ],
   "source": [
    "l=[x for x in range(1,11,2)]\n",
    "print(l)"
   ]
  },
  {
   "cell_type": "code",
   "execution_count": 78,
   "id": "1e32d19d-84bf-4cd1-bbce-81802ee03282",
   "metadata": {},
   "outputs": [
    {
     "name": "stdout",
     "output_type": "stream",
     "text": [
      "[1, 3, 6, 10, 15, 21]\n"
     ]
    }
   ],
   "source": [
    "#prefix sum\n",
    "l=[1,2,3,4,5,6]\n",
    "lst = []\n",
    "s =0\n",
    "for i in l:\n",
    "    s =s+i\n",
    "    lst.append(s)\n",
    "print(lst)"
   ]
  },
  {
   "cell_type": "code",
   "execution_count": 73,
   "id": "912a201f-bcc5-44ba-9ef5-4cf8c99185d4",
   "metadata": {},
   "outputs": [
    {
     "name": "stdout",
     "output_type": "stream",
     "text": [
      "[6, 11, 15, 18, 20, 21]\n"
     ]
    }
   ],
   "source": [
    "l=[1,2,3,4,5,6]\n",
    "res=0\n",
    "suf_sum=[]\n",
    "n=len(l)\n",
    "for i in range(n-1,-1,-1):\n",
    "    res+=l[i]\n",
    "    suf_sum.append(res)\n",
    "print(suf_sum)"
   ]
  },
  {
   "cell_type": "code",
   "execution_count": 9,
   "id": "db34c67c-7c26-4262-989d-9348981b1942",
   "metadata": {},
   "outputs": [
    {
     "name": "stdout",
     "output_type": "stream",
     "text": [
      "[10, 15, 20, 25, 30, 35, 40, 45, 50]\n"
     ]
    }
   ],
   "source": [
    "def divisble_in_range(x,y,n):\n",
    "    if n==0:\n",
    "        raise ValueError (\"divisor 'n' cannot be zero\")\n",
    "    return[i for i in range(x,y+1) if i%n==0]\n",
    "print(divisble_in_range(10,50,5))"
   ]
  },
  {
   "cell_type": "code",
   "execution_count": 14,
   "id": "c6b23210-2785-409e-b212-af5567318d63",
   "metadata": {},
   "outputs": [
    {
     "name": "stdout",
     "output_type": "stream",
     "text": [
      "[3, 6, 9]\n",
      "[8]\n",
      "[]\n"
     ]
    }
   ],
   "source": [
    "def list_operation(s,e,d):\n",
    "    \n",
    "        return [x for x in range(s,e+1) if x%d==0]\n",
    "print(list_operation(1,10,3))\n",
    "print(list_operation(7,9,2))\n",
    "print(list_operation(15,20,7))\n",
    "        "
   ]
  },
  {
   "cell_type": "code",
   "execution_count": 20,
   "id": "5e75ee95-a97b-412e-89d7-5b2815ba9a95",
   "metadata": {},
   "outputs": [
    {
     "name": "stdout",
     "output_type": "stream",
     "text": [
      "ABCD\n"
     ]
    }
   ],
   "source": [
    "def secret_socity_names(names):\n",
    "    initials=sorted(name[0].upper() for name in names if name)\n",
    "    return ''.join(initials)\n",
    "names=[\"Alice\",\"Bob\",\"Charlie\",\"Diana\"]\n",
    "print(secret_socity_names(names))"
   ]
  },
  {
   "cell_type": "code",
   "execution_count": 23,
   "id": "d1984c61-b20f-445a-a2af-1c34ac6a5c7f",
   "metadata": {},
   "outputs": [
    {
     "name": "stdout",
     "output_type": "stream",
     "text": [
      "['A', 'S', 'M']\n"
     ]
    }
   ],
   "source": [
    "def society_name(lst_names):\n",
    "    res=[]\n",
    "    for name in lst_names:\n",
    "        res.append(name[0])\n",
    "    print(res)\n",
    "society_name([\"Adam\",\"Sarah\",\"Malcom\"])"
   ]
  },
  {
   "cell_type": "code",
   "execution_count": 24,
   "id": "8e3318a8-6993-4896-8985-783746cc28df",
   "metadata": {},
   "outputs": [
    {
     "data": {
      "text/plain": [
       "'AMS'"
      ]
     },
     "execution_count": 24,
     "metadata": {},
     "output_type": "execute_result"
    }
   ],
   "source": [
    "def society_name(lst_names):\n",
    "    res=[]\n",
    "    for name in lst_names:\n",
    "        res.append(name[0])\n",
    "    res.sort()\n",
    "    return \"\".join(res)\n",
    "society_name([\"Adam\",\"Sarah\",\"Malcom\"])"
   ]
  },
  {
   "cell_type": "code",
   "execution_count": 27,
   "id": "c251a219-eb78-4f3f-bb9a-45ad4c17834a",
   "metadata": {},
   "outputs": [
    {
     "name": "stdout",
     "output_type": "stream",
     "text": [
      "False\n",
      "True\n"
     ]
    }
   ],
   "source": [
    "def is_isogram(word):\n",
    "    cleaned=word.lower()\n",
    "    return len(set(cleaned)) == len(cleaned)\n",
    "print(is_isogram(\"Madem\"))\n",
    "print(is_isogram(\"nithya\"))"
   ]
  },
  {
   "cell_type": "code",
   "execution_count": 28,
   "id": "4e8db565-d26d-4d1a-b2bc-cd75456ff95d",
   "metadata": {},
   "outputs": [
    {
     "name": "stdout",
     "output_type": "stream",
     "text": [
      "True\n",
      "False\n"
     ]
    }
   ],
   "source": [
    "def is_ordered(s):\n",
    "    cleaned=s.lower()\n",
    "    return list(cleaned)==sorted(cleaned)\n",
    "print(is_ordered(\"abcd\"))\n",
    "print(is_ordered(\"Apple\"))\n",
    "      "
   ]
  },
  {
   "cell_type": "code",
   "execution_count": 30,
   "id": "57846cc4-3e55-41c2-9fa1-2adfa0f0d35e",
   "metadata": {},
   "outputs": [
    {
     "name": "stdout",
     "output_type": "stream",
     "text": [
      "False\n"
     ]
    }
   ],
   "source": [
    "def is_isogram(string):\n",
    "    lower_str=string.lower()\n",
    "    for char in lower_str:\n",
    "        if lower_str.count(char)>1:\n",
    "            return False\n",
    "    else:\n",
    "        return True\n",
    "print(is_isogram(\"PassWord\"))"
   ]
  },
  {
   "cell_type": "code",
   "execution_count": 31,
   "id": "aadba45c-2aa2-49ef-9ce5-950ead990c1b",
   "metadata": {},
   "outputs": [
    {
     "name": "stdout",
     "output_type": "stream",
     "text": [
      "{'p': 1, 'a': 1, 's': 2, 'w': 1, 'o': 1, 'r': 1, 'd': 1}\n",
      "False\n"
     ]
    }
   ],
   "source": [
    "def is_isogram(string):\n",
    "    lower_str=string.lower()\n",
    "    d={}\n",
    "    for char in lower_str:\n",
    "        if char not in d:\n",
    "            d[char]=1\n",
    "        else:\n",
    "            d[char]+=1\n",
    "    print(d)\n",
    "    for val in d.values():\n",
    "        if val>1:\n",
    "            return False\n",
    "    else:\n",
    "        return True\n",
    "print(is_isogram(\"PassWord\"))\n",
    "        "
   ]
  },
  {
   "cell_type": "code",
   "execution_count": 33,
   "id": "f1ac3273-a1d6-4bec-8e03-ac7192fd3199",
   "metadata": {},
   "outputs": [
    {
     "name": "stdout",
     "output_type": "stream",
     "text": [
      "True\n",
      "False\n"
     ]
    }
   ],
   "source": [
    "def is_symmetrical(num):\n",
    "    num_str=str(num)\n",
    "    return num_str==num_str[::-1]\n",
    "print(is_symmetrical(1221))\n",
    "print(is_symmetrical(2244))"
   ]
  },
  {
   "cell_type": "code",
   "execution_count": 34,
   "id": "456f9358-0856-41d4-8aae-711079430a0c",
   "metadata": {},
   "outputs": [
    {
     "name": "stdout",
     "output_type": "stream",
     "text": [
      "['e', 'd', 'a', 'b', 'i', 't']\n"
     ]
    },
    {
     "data": {
      "text/plain": [
       "False"
      ]
     },
     "execution_count": 34,
     "metadata": {},
     "output_type": "execute_result"
    }
   ],
   "source": [
    "def is_in_order(string):\n",
    "    l=list(string)\n",
    "    print(l)\n",
    "    l.sort()\n",
    "    new_str=\"\".join(l)\n",
    "    if string==new_str:\n",
    "        return True\n",
    "    else:\n",
    "        return False\n",
    "is_in_order(\"edabit\")"
   ]
  },
  {
   "cell_type": "code",
   "execution_count": 38,
   "id": "438e4008-da99-4a4b-941f-d3d06d2440ac",
   "metadata": {},
   "outputs": [
    {
     "name": "stdout",
     "output_type": "stream",
     "text": [
      "24.0\n",
      "30.0\n"
     ]
    }
   ],
   "source": [
    "def product_of_numbers(s):\n",
    "    numbers=[float(num) for num in s.split(', ')]\n",
    "    product=1\n",
    "    for num in numbers:\n",
    "        product *=num\n",
    "    return product\n",
    "print(product_of_numbers(\"2, 3, 4\"))\n",
    "print(product_of_numbers(\"2, 3, 5\"))"
   ]
  },
  {
   "cell_type": "code",
   "execution_count": null,
   "id": "1ad3ff67-c6b9-4231-a305-c15578baba21",
   "metadata": {},
   "outputs": [],
   "source": []
  }
 ],
 "metadata": {
  "kernelspec": {
   "display_name": "Python [conda env:anaconda3]",
   "language": "python",
   "name": "conda-env-anaconda3-py"
  },
  "language_info": {
   "codemirror_mode": {
    "name": "ipython",
    "version": 3
   },
   "file_extension": ".py",
   "mimetype": "text/x-python",
   "name": "python",
   "nbconvert_exporter": "python",
   "pygments_lexer": "ipython3",
   "version": "3.12.7"
  }
 },
 "nbformat": 4,
 "nbformat_minor": 5
}
