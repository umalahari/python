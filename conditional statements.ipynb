{
 "cells": [
  {
   "cell_type": "code",
   "execution_count": 2,
   "id": "d1648e75-a2e9-4314-b325-569061974df3",
   "metadata": {},
   "outputs": [
    {
     "name": "stdout",
     "output_type": "stream",
     "text": [
      " -5\n"
     ]
    },
    {
     "name": "stdout",
     "output_type": "stream",
     "text": [
      "not a positive number\n"
     ]
    }
   ],
   "source": [
    "#write a program to check wheather a number is positive or negative?\n",
    "num=int(input())\n",
    "if num>=0:\n",
    "    print(\"positive number\")\n",
    "else:\n",
    "    print(\"not a positive number\")"
   ]
  },
  {
   "cell_type": "code",
   "execution_count": 4,
   "id": "71979b91-2be5-43c7-9df9-0398ccb9ac15",
   "metadata": {},
   "outputs": [
    {
     "name": "stdout",
     "output_type": "stream",
     "text": [
      " 5\n"
     ]
    },
    {
     "name": "stdout",
     "output_type": "stream",
     "text": [
      "odd number\n"
     ]
    }
   ],
   "source": [
    "#check wheather a number is even or odd?\n",
    "n=int(input())\n",
    "if n%2==0:\n",
    "    print(\"even number\")\n",
    "else:\n",
    "    print(\"odd number\")"
   ]
  },
  {
   "cell_type": "code",
   "execution_count": 7,
   "id": "8272adf0-5a56-440d-adad-ee75f2d8bc89",
   "metadata": {},
   "outputs": [
    {
     "name": "stdout",
     "output_type": "stream",
     "text": [
      " 5\n",
      " 5\n"
     ]
    },
    {
     "name": "stdout",
     "output_type": "stream",
     "text": [
      "both are equal\n"
     ]
    }
   ],
   "source": [
    "#find nthe greater of two numbers?\n",
    "n1=int(input())\n",
    "n2=int(input())\n",
    "if n1 > n2:\n",
    "    print(f\"{n1} is greater then {n2}\")\n",
    "elif n2 > n1:\n",
    "    print(f\"{n2} is greater then {n1}\")\n",
    "else:\n",
    "    print(\"both are equal\")\n"
   ]
  },
  {
   "cell_type": "code",
   "execution_count": 9,
   "id": "a67c99bd-ca32-4df2-84b2-7339f9543c7b",
   "metadata": {},
   "outputs": [
    {
     "name": "stdin",
     "output_type": "stream",
     "text": [
      " 5\n",
      " 8\n",
      " 7\n"
     ]
    },
    {
     "name": "stdout",
     "output_type": "stream",
     "text": [
      "8 is the largest\n"
     ]
    }
   ],
   "source": [
    "# find the largest among three number?\n",
    "a=int(input())\n",
    "b=int(input())\n",
    "c=int(input())\n",
    "if a>=b and a>=c:\n",
    "    print(f\"{a} is the largest\")\n",
    "elif b>=a and b>=c:\n",
    "    print(f\"{b} is the largest\")\n",
    "else:\n",
    "    print(f\"{c} is the largest\")"
   ]
  },
  {
   "cell_type": "code",
   "execution_count": 11,
   "id": "b0627b35-4f0e-46a3-bb19-f39b99cf00d3",
   "metadata": {},
   "outputs": [
    {
     "name": "stdin",
     "output_type": "stream",
     "text": [
      " 87\n"
     ]
    },
    {
     "name": "stdout",
     "output_type": "stream",
     "text": [
      "87 is not divisible by both 5 and 11\n"
     ]
    }
   ],
   "source": [
    "#check if a number is divisible by 5 and 11\n",
    "num=int(input())\n",
    "if num%5==0 and num%11==0:\n",
    "    print(f\"{num} is divisible by both 5 and 11\")\n",
    "else:\n",
    "    print(f\"{num} is not divisible by both 5 and 11\")"
   ]
  },
  {
   "cell_type": "code",
   "execution_count": 12,
   "id": "6611b6bd-946b-4f19-a55e-077a45efb703",
   "metadata": {},
   "outputs": [
    {
     "name": "stdin",
     "output_type": "stream",
     "text": [
      " 2100\n"
     ]
    },
    {
     "name": "stdout",
     "output_type": "stream",
     "text": [
      "2100 is not a leap year\n"
     ]
    }
   ],
   "source": [
    "#check  if a year is a leap year?\n",
    "year =int(input())\n",
    "if (year%4==0 and year%100!=0) or year%400==0:\n",
    "    print(f\"{year} is a leap number\")\n",
    "else:\n",
    "    print(f\"{year} is not a leap year\")"
   ]
  },
  {
   "cell_type": "code",
   "execution_count": 8,
   "id": "160d1e3a-c38e-4a58-9892-feac5abc0f7e",
   "metadata": {},
   "outputs": [
    {
     "name": "stdin",
     "output_type": "stream",
     "text": [
      " F\n"
     ]
    },
    {
     "name": "stdout",
     "output_type": "stream",
     "text": [
      "F is a consonant\n"
     ]
    }
   ],
   "source": [
    "# check whether a character is a vowel or consonant?\n",
    "char=input()\n",
    "vowels=['a','e','i','o','u','A','E','I','O','U']\n",
    "if char.isalpha() and len(char) ==1:\n",
    "    if char in vowels:\n",
    "        print(f\"{char} is a vowels\")\n",
    "    else:\n",
    "        print(f\"{char} is a consonant\")\n",
    "else:\n",
    "    print(\"invalid input\")\n",
    "    "
   ]
  },
  {
   "cell_type": "code",
   "execution_count": 31,
   "id": "c854df2f-276d-4b7e-b1a7-f6f5b78d0c2e",
   "metadata": {},
   "outputs": [
    {
     "name": "stdout",
     "output_type": "stream",
     "text": [
      " 9\n"
     ]
    },
    {
     "name": "stdout",
     "output_type": "stream",
     "text": [
      "9 is a multiple of 3 or 7\n"
     ]
    }
   ],
   "source": [
    "#check whether a number is a multiple of 3 or 7?\n",
    "num=int(input())\n",
    "if num%3==0 or num%7==0:\n",
    "    print(f\"{num} is a multiple of 3 or 7\")\n",
    "else:\n",
    "    print(f\"{num} is not a multiple of 3 or 7\")"
   ]
  },
  {
   "cell_type": "code",
   "execution_count": 35,
   "id": "e8df20de-8cd6-4803-9a23-c53659e264df",
   "metadata": {},
   "outputs": [
    {
     "name": "stdout",
     "output_type": "stream",
     "text": [
      " @\n"
     ]
    },
    {
     "name": "stdout",
     "output_type": "stream",
     "text": [
      "@ is a special symbol\n"
     ]
    }
   ],
   "source": [
    "# check whether a character is uppercase,lowercase,digit or spcial symbol?\n",
    "c=input()\n",
    "if len(c)!=1:\n",
    "    print(\"please enter only one character.\")\n",
    "elif c.isupper():\n",
    "    print(f\"{c} is an uppercase letter.\")\n",
    "elif c.islower():\n",
    "    print(f\"{c} is an lowercase letter\")\n",
    "elif c.isdigit():\n",
    "    print(f\"{c} is a digit\")\n",
    "else:\n",
    "    print(f\"{c} is a special symbol\")"
   ]
  },
  {
   "cell_type": "code",
   "execution_count": 9,
   "id": "8894a916-d3cd-4057-b340-296cd9a922a7",
   "metadata": {},
   "outputs": [
    {
     "name": "stdin",
     "output_type": "stream",
     "text": [
      " 0\n"
     ]
    },
    {
     "name": "stdout",
     "output_type": "stream",
     "text": [
      "the number is zero\n"
     ]
    }
   ],
   "source": [
    "#check whether a number is positive,negative or zero and even/odd ?\n",
    "num=int(input())\n",
    "if num==0:\n",
    "    print(\"the number is zero\")\n",
    "elif num>0:\n",
    "    if num%2==0:\n",
    "        print(\"the number is positive even\")\n",
    "    else:\n",
    "        print(\"the number is positive odd\")\n",
    "elif num<0:\n",
    "    if num%2==0:\n",
    "        print(\"the number is negative even\")\n",
    "    else:\n",
    "        print(\"the number is negative odd\")\n",
    "\n",
    "\n",
    "\n",
    "          "
   ]
  },
  {
   "cell_type": "code",
   "execution_count": 12,
   "id": "4a989302-3a9b-4b1f-ad3d-b0fce97cbf26",
   "metadata": {},
   "outputs": [
    {
     "name": "stdin",
     "output_type": "stream",
     "text": [
      " 22\n"
     ]
    },
    {
     "name": "stdout",
     "output_type": "stream",
     "text": [
      "Grade: F -Fail\n"
     ]
    }
   ],
   "source": [
    "#Assign grades based on marks (90+: A+, 80-89: A, etc.)?\n",
    "total_marks=int(input())\n",
    "if total_marks>=90:\n",
    "    print(\"Grade: A+\")\n",
    "elif total_marks>=80:\n",
    "    print(\"Grade: A\")\n",
    "elif total_marks>=70:\n",
    "    print(\"Grade: B\")\n",
    "elif total_marks>=60:\n",
    "    print(\"Grade: C\")\n",
    "elif total_marks>=50:\n",
    "    print(\"Grade: D\")\n",
    "elif total_marks>=35:\n",
    "    print(\"Grade: E\")\n",
    "else:\n",
    "    print(\"Grade: F -Fail\")"
   ]
  },
  {
   "cell_type": "code",
   "execution_count": 16,
   "id": "5c8874a5-49ba-47c5-8f10-c75502a32800",
   "metadata": {},
   "outputs": [
    {
     "name": "stdin",
     "output_type": "stream",
     "text": [
      "Enter the first number:  7\n",
      "Enter an operator (+, -, *, /):  /\n",
      "Enter the second number:  0\n"
     ]
    },
    {
     "name": "stdout",
     "output_type": "stream",
     "text": [
      "Error: Division by zero is not allowed.\n"
     ]
    }
   ],
   "source": [
    "#Create a simple calculator using +, -, *, / operators.\n",
    "num1 = float(input(\"Enter the first number: \"))\n",
    "operator = input(\"Enter an operator (+, -, *, /): \")\n",
    "num2 = float(input(\"Enter the second number: \"))\n",
    "if operator == '+':\n",
    "    result = num1 + num2\n",
    "    print(\"Result:\", result)\n",
    "elif operator == '-':\n",
    "    result = num1 - num2\n",
    "    print(\"Result:\", result)\n",
    "elif operator == '*':\n",
    "    result = num1 * num2\n",
    "    print(\"Result:\", result)\n",
    "elif operator == '/':\n",
    "    if num2 != 0:\n",
    "        result = num1 / num2\n",
    "        print(\"Result:\", result)\n",
    "    else:\n",
    "        print(\"Error: Division by zero is not allowed.\")\n",
    "else:\n",
    "    print(\"Invalid operator. Please choose +, -, *, or /.\")"
   ]
  },
  {
   "cell_type": "code",
   "execution_count": 18,
   "id": "598fdf7c-2c12-4c21-8d70-48ae446e1040",
   "metadata": {},
   "outputs": [
    {
     "name": "stdin",
     "output_type": "stream",
     "text": [
      " 70\n",
      " 60\n",
      " 80\n"
     ]
    },
    {
     "name": "stdout",
     "output_type": "stream",
     "text": [
      "it is not a valid triangle\n"
     ]
    }
   ],
   "source": [
    "#Check whether a triangle is valid based on the sum of its angles.\n",
    "angle1=float(input())\n",
    "angle2=float(input())\n",
    "angle3=float(input())\n",
    "if angle1+angle2+angle3 == 180:\n",
    "    print(\"it is a valid triangle\")\n",
    "else:\n",
    "    print(\"it is not a valid triangle\")"
   ]
  },
  {
   "cell_type": "code",
   "execution_count": 21,
   "id": "b4e589cc-d88f-44e7-9991-fae9bc616892",
   "metadata": {},
   "outputs": [
    {
     "name": "stdin",
     "output_type": "stream",
     "text": [
      " 18\n"
     ]
    },
    {
     "name": "stdout",
     "output_type": "stream",
     "text": [
      "the number is not divisible by both 3 and 5\n"
     ]
    }
   ],
   "source": [
    "num=int(input())\n",
    "if num%3==0 and num%5==0:\n",
    "    print(\"the number is dividible by both 3 and 5\")\n",
    "else:\n",
    "    print(\"the number is not divisible by both 3 and 5\")"
   ]
  },
  {
   "cell_type": "code",
   "execution_count": 23,
   "id": "bf675bb3-3989-4193-8151-7d2aea4a7ace",
   "metadata": {},
   "outputs": [
    {
     "name": "stdin",
     "output_type": "stream",
     "text": [
      " 996\n"
     ]
    },
    {
     "name": "stdout",
     "output_type": "stream",
     "text": [
      "996 is a three-digit number.\n"
     ]
    }
   ],
   "source": [
    "#Determine if a number is a three-digit number.\n",
    "number=int(input())\n",
    "if 100<= abs(number)<=999:\n",
    "    print(f\"{number} is a three-digit number.\")\n",
    "else:\n",
    "    print(f\"{number} is not a three digit number.\")"
   ]
  },
  {
   "cell_type": "code",
   "execution_count": 27,
   "id": "c7e503a2-b2aa-46f5-bb07-4fe23db32b81",
   "metadata": {},
   "outputs": [
    {
     "name": "stdin",
     "output_type": "stream",
     "text": [
      " 7\n"
     ]
    },
    {
     "name": "stdout",
     "output_type": "stream",
     "text": [
      "7 is not even and a multiple of 7\n"
     ]
    }
   ],
   "source": [
    "#Check if a number is even and multiple of 7?\n",
    "digit=int(input())\n",
    "if digit%2==0 and digit%7==0:\n",
    "    print(f\"{digit} is even and multiple of 7.\")\n",
    "else:\n",
    "    print(f\"{digit} is not even and a multiple of 7\")"
   ]
  },
  {
   "cell_type": "code",
   "execution_count": 39,
   "id": "6c3f67d4-8038-41e5-b20a-dc2e297e0ce9",
   "metadata": {},
   "outputs": [
    {
     "name": "stdin",
     "output_type": "stream",
     "text": [
      " 55\n",
      " 45\n",
      " 80\n"
     ]
    },
    {
     "name": "stdout",
     "output_type": "stream",
     "text": [
      "the triangle is scalene.\n"
     ]
    }
   ],
   "source": [
    "#Determine the type of triangle (Equilateral, Isosceles, Scalene) using sides?\n",
    "side1=int(input())\n",
    "side2=int(input())\n",
    "side3=int(input())\n",
    "if (side1 + side2 >side3) and (side2 + side3 > side1) and (side1 + side3 > side2):\n",
    "    if side1 == side2 == side3:\n",
    "        print(\"the triangle is equilateral\")\n",
    "    elif side1 == side2 or side2 == side3 or side1 == side3:\n",
    "        print(\"the triangle is Isosceles.\")\n",
    "    else:\n",
    "        print(\"the triangle is scalene.\")\n",
    "else:\n",
    "    print(\"the input dose not from a valid triangle.\")\n",
    "    "
   ]
  },
  {
   "cell_type": "code",
   "execution_count": 44,
   "id": "2a327775-9768-404d-8e44-e45cbbd9bb34",
   "metadata": {},
   "outputs": [
    {
     "name": "stdin",
     "output_type": "stream",
     "text": [
      " 150\n"
     ]
    },
    {
     "name": "stdout",
     "output_type": "stream",
     "text": [
      "total electricity bill: 275.00\n"
     ]
    }
   ],
   "source": [
    "#Calculate electricity bill based on slab-wise rates?\n",
    "units =float(input())\n",
    "bill=0\n",
    "if units <= 100:\n",
    "    bill = units *1.5\n",
    "elif units <= 200:\n",
    "    bill = (100 *1.5) + ((units -100) *2.5)\n",
    "else:\n",
    "    bill = (100 *1.5) + (100 * 2.5) + ((units - 200) * 4)\n",
    "print(f\"total electricity bill: {bill:.2f}\")"
   ]
  },
  {
   "cell_type": "code",
   "execution_count": 47,
   "id": "f52dacb6-f424-4685-8cda-e7396c13b619",
   "metadata": {},
   "outputs": [
    {
     "name": "stdin",
     "output_type": "stream",
     "text": [
      " 105\n"
     ]
    },
    {
     "name": "stdout",
     "output_type": "stream",
     "text": [
      "105 is not within the range of 50 to 100.\n"
     ]
    }
   ],
   "source": [
    "#Check if a number is within a range (e.g., 50–100)?\n",
    "num=int(input())\n",
    "if 50<=num<=100:\n",
    "    print(f\"{num} is within the range of 50 t0 100.\")\n",
    "else:\n",
    "    print(f\"{num} is not within the range of 50 to 100.\")"
   ]
  },
  {
   "cell_type": "code",
   "execution_count": 49,
   "id": "de7dc15a-a385-4384-ad09-8e066facee57",
   "metadata": {},
   "outputs": [
    {
     "name": "stdin",
     "output_type": "stream",
     "text": [
      " 2025\n"
     ]
    },
    {
     "name": "stdout",
     "output_type": "stream",
     "text": [
      "2025 is not a century year.\n"
     ]
    }
   ],
   "source": [
    "#Check whether a given year is a century year?\n",
    "year=int(input())\n",
    "if year%100==0:\n",
    "    print(f\"{year} is a century year.\")\n",
    "else:\n",
    "    print(f\"{year} is not a century year.\")\n",
    "    "
   ]
  },
  {
   "cell_type": "code",
   "execution_count": 52,
   "id": "da1468b6-8917-4a85-b39b-7a532e0f4222",
   "metadata": {},
   "outputs": [
    {
     "name": "stdin",
     "output_type": "stream",
     "text": [
      " 5\n",
      " 7\n"
     ]
    },
    {
     "name": "stdout",
     "output_type": "stream",
     "text": [
      "greater number: 7\n",
      "difference: 2\n"
     ]
    }
   ],
   "source": [
    "#Compare two numbers and display the greater and the difference?\n",
    "num1=int(input())\n",
    "num2=int(input())\n",
    "if num1>num2:\n",
    "    greater = num1\n",
    "    difference =num1-num2\n",
    "elif num2>num1:\n",
    "    greater = num2\n",
    "    difference = num2-num1\n",
    "else:\n",
    "    greater = \"neither -both are equal\"\n",
    "    difference=0\n",
    "print(f\"greater number: {greater}\")\n",
    "print(f\"difference: {difference}\")"
   ]
  },
  {
   "cell_type": "code",
   "execution_count": 58,
   "id": "29b5c3f3-918c-4255-b1ac-496d3be20803",
   "metadata": {},
   "outputs": [
    {
     "name": "stdin",
     "output_type": "stream",
     "text": [
      " 3\n"
     ]
    },
    {
     "name": "stdout",
     "output_type": "stream",
     "text": [
      "day 3 is wednesday - weekday\n"
     ]
    }
   ],
   "source": [
    "#python program for Check if a day number (1–7) corresponds to weekday or weekend?\n",
    "day=int(input())\n",
    "if day==1:\n",
    "    print(\"day 1 is monday - weekday\")\n",
    "elif day==2:\n",
    "    print(\"day 2 is tuesday - weekday\")\n",
    "elif day==3:\n",
    "    print(\"day 3 is wednesday - weekday\")\n",
    "elif day==4:\n",
    "    print(\"day 4 is thursday - weekday\")\n",
    "elif day==5:\n",
    "    print(\"day 5 is friday - weekday\")\n",
    "elif day==6:\n",
    "    print(\"day 6 is saturday - weekend\")\n",
    "elif day==7:\n",
    "    print(\"day 7 is sunday - weekend\")\n",
    "else:\n",
    "    print(\"invalid input!\")"
   ]
  },
  {
   "cell_type": "code",
   "execution_count": 67,
   "id": "ac4e420c-25d7-4b0e-b051-a58083a3785e",
   "metadata": {},
   "outputs": [
    {
     "name": "stdin",
     "output_type": "stream",
     "text": [
      " 3\n",
      " 4\n",
      " 5\n"
     ]
    },
    {
     "name": "stdout",
     "output_type": "stream",
     "text": [
      " CAN form a right-angled triangle.\n"
     ]
    }
   ],
   "source": [
    "#Check if three sides can form a right-angled triangle?\n",
    "a=int(input())\n",
    "b=int(input())\n",
    "c=int(input())\n",
    "if (a**2 + b**2 == c**2) or (a**2 + c**2 == b**2) or (b**2 + c**2 == a**2):\n",
    "    print(\" CAN form a right-angled triangle.\")\n",
    "else:\n",
    "    print(\"CANNOT form a right-angled triangle.\")\n"
   ]
  },
  {
   "cell_type": "code",
   "execution_count": 69,
   "id": "43ca4911-a22a-4f3d-9a5d-655296bcf401",
   "metadata": {},
   "outputs": [
    {
     "name": "stdin",
     "output_type": "stream",
     "text": [
      " 5\n",
      " 8\n",
      " 4\n"
     ]
    },
    {
     "name": "stdout",
     "output_type": "stream",
     "text": [
      "-9.08284271247462\n",
      "-8.517157287525382\n"
     ]
    }
   ],
   "source": [
    "#Find the roots of a quadratic equation and display their nature?\n",
    "import math\n",
    "a=int(input())\n",
    "b=int(input())\n",
    "c=int(input())\n",
    "q1=(-b-(math.sqrt(b))-4*a*c)/(2*a)\n",
    "print(q1)\n",
    "q2=(-b+(math.sqrt(b))-4*a*c)/(2*a)\n",
    "print(q2)"
   ]
  },
  {
   "cell_type": "code",
   "execution_count": null,
   "id": "2d871b1e-a1d8-46ca-85ee-bced139054cd",
   "metadata": {},
   "outputs": [],
   "source": []
  }
 ],
 "metadata": {
  "kernelspec": {
   "display_name": "Python [conda env:anaconda3]",
   "language": "python",
   "name": "conda-env-anaconda3-py"
  },
  "language_info": {
   "codemirror_mode": {
    "name": "ipython",
    "version": 3
   },
   "file_extension": ".py",
   "mimetype": "text/x-python",
   "name": "python",
   "nbconvert_exporter": "python",
   "pygments_lexer": "ipython3",
   "version": "3.12.7"
  }
 },
 "nbformat": 4,
 "nbformat_minor": 5
}
