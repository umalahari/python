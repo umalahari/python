{
 "cells": [
  {
   "cell_type": "code",
   "execution_count": 4,
   "id": "470473f4-d534-440c-8106-2d8a9f15512c",
   "metadata": {},
   "outputs": [
    {
     "name": "stdout",
     "output_type": "stream",
     "text": [
      "[1, 2, 3, 4, 5, 6, 7, 8, 9, 10]\n"
     ]
    }
   ],
   "source": [
    "#print list of numbers from 1 to 10?\n",
    "lst=[]\n",
    "for i in range(1,11):\n",
    "    lst.append(i)\n",
    "print(lst)"
   ]
  },
  {
   "cell_type": "code",
   "execution_count": 5,
   "id": "441b4364-30f1-4629-a09c-ebefcfbd17ac",
   "metadata": {},
   "outputs": [
    {
     "name": "stdout",
     "output_type": "stream",
     "text": [
      "[1, 2, 3, 4, 5, 6, 7, 8, 9, 10]\n"
     ]
    }
   ],
   "source": [
    "lst=[x for x in range(1,11)]\n",
    "print(lst)"
   ]
  },
  {
   "cell_type": "code",
   "execution_count": 8,
   "id": "1614a5c4-2133-4c4f-af76-7a532e8be4ee",
   "metadata": {},
   "outputs": [
    {
     "name": "stdout",
     "output_type": "stream",
     "text": [
      "[2, 4, 6, 8, 10, 12, 14, 16, 18, 20]\n"
     ]
    }
   ],
   "source": [
    "#List of even numbers from 1 to 20?\n",
    "even=[x for x in range(1,21) if x%2==0]\n",
    "print(even)"
   ]
  },
  {
   "cell_type": "code",
   "execution_count": 10,
   "id": "f552b247-79fc-48b7-9e45-bfdbd83ee3ce",
   "metadata": {},
   "outputs": [
    {
     "name": "stdout",
     "output_type": "stream",
     "text": [
      "[1, 3, 5, 7, 9, 11, 13, 15, 17, 19, 21]\n"
     ]
    }
   ],
   "source": [
    "#list of odd numbers from 1 to 20?\n",
    "odd=[x for x in range(0,22) if x%2==0+1]\n",
    "print(odd)"
   ]
  },
  {
   "cell_type": "code",
   "execution_count": 18,
   "id": "850ff672-46b3-406a-bb25-3368c4b8db11",
   "metadata": {},
   "outputs": [
    {
     "name": "stdout",
     "output_type": "stream",
     "text": [
      "[1, 3, 5, 7, 9, 11, 13, 15, 17, 19]\n"
     ]
    }
   ],
   "source": [
    "#list of odd numbers 1-20 without using '==' and'!='?\n",
    "lt=[x for x in range(1,21,2)]\n",
    "print(lt)"
   ]
  },
  {
   "cell_type": "code",
   "execution_count": 25,
   "id": "b9347989-ce7a-444a-ad40-f678550f70f9",
   "metadata": {},
   "outputs": [
    {
     "name": "stdout",
     "output_type": "stream",
     "text": [
      "Hello\n"
     ]
    }
   ],
   "source": [
    "if 11%2:\n",
    "    print(\"Hello\")\n",
    "else:\n",
    "    print(\"Hi\")"
   ]
  },
  {
   "cell_type": "code",
   "execution_count": 26,
   "id": "3916e625-134d-47d4-b1ff-490cc22d171d",
   "metadata": {},
   "outputs": [
    {
     "name": "stdout",
     "output_type": "stream",
     "text": [
      "[3, 5, 7, 9, 11, 13, 15, 17, 19]\n"
     ]
    }
   ],
   "source": [
    "lst=[x for x in range(2,21) if x%2]\n",
    "print(lst)"
   ]
  },
  {
   "cell_type": "code",
   "execution_count": 41,
   "id": "0bfcd621-4a7e-440d-8b64-270530b5cbbe",
   "metadata": {},
   "outputs": [
    {
     "name": "stdout",
     "output_type": "stream",
     "text": [
      "[2, 54, 66, 86]\n"
     ]
    }
   ],
   "source": [
    "#Find even numbers from the list without using '=='?\n",
    "l=[2,443,54,65,66,86,91]\n",
    "lt=[x for x in l if not x%2]\n",
    "print(lt)\n"
   ]
  },
  {
   "cell_type": "code",
   "execution_count": 42,
   "id": "85462ae1-c3ef-46a3-99b6-c5eced034aa4",
   "metadata": {},
   "outputs": [
    {
     "name": "stdout",
     "output_type": "stream",
     "text": [
      "even\n"
     ]
    }
   ],
   "source": [
    "l=[2,443,54,65,66,86,91]\n",
    "#true_statements if condition else false_statements\n",
    "n=10\n",
    "res=\"even\" if not n%2 else 'odd'\n",
    "print(res)"
   ]
  },
  {
   "cell_type": "code",
   "execution_count": 44,
   "id": "d310dba7-cfe3-480d-be6f-9e3dff966b31",
   "metadata": {},
   "outputs": [
    {
     "name": "stdout",
     "output_type": "stream",
     "text": [
      "['even', 'odd', 'even', 'odd', 'even', 'even', 'odd']\n"
     ]
    }
   ],
   "source": [
    "l=[2,443,54,65,66,86,91]\n",
    "#true_statements if condition else false_statements\n",
    "res=[\"even\" if not x%2 else 'odd' for x in l]\n",
    "print(res)"
   ]
  },
  {
   "cell_type": "code",
   "execution_count": 46,
   "id": "e5524124-e2fa-4032-b809-52afa2d8ba4d",
   "metadata": {},
   "outputs": [
    {
     "name": "stdout",
     "output_type": "stream",
     "text": [
      "['2-even', '443- odd', '54-even', '65- odd', '66-even', '86-even', '91- odd']\n"
     ]
    }
   ],
   "source": [
    "l=[2,443,54,65,66,86,91]\n",
    "#true_statements if condition else false_statements\n",
    "res=[f\"{x}-even\" if not x%2 else f\"{x}- odd\" for x in l]\n",
    "print(res)"
   ]
  },
  {
   "cell_type": "code",
   "execution_count": 48,
   "id": "d8aff7ed-439d-4e48-9e00-e6bde99ec51f",
   "metadata": {},
   "outputs": [
    {
     "name": "stdout",
     "output_type": "stream",
     "text": [
      "[(1, 1), (1, 2), (1, 3), (1, 4), (1, 5), (2, 1), (2, 2), (2, 3), (2, 4), (2, 5), (3, 1), (3, 2), (3, 3), (3, 4), (3, 5), (4, 1), (4, 2), (4, 3), (4, 4), (4, 5), (5, 1), (5, 2), (5, 3), (5, 4), (5, 5)]\n"
     ]
    }
   ],
   "source": [
    "#Nested loops in list comprehension\n",
    "lt=[(i,j) for i in range(1,6) for j in range(1,6)]\n",
    "print(lt)"
   ]
  },
  {
   "cell_type": "code",
   "execution_count": 51,
   "id": "58a9e461-8296-4104-aa15-b214092f6c5f",
   "metadata": {},
   "outputs": [
    {
     "name": "stdout",
     "output_type": "stream",
     "text": [
      "[(1, 1), (1, 2), (1, 3), (1, 4), (1, 5), (1, 6), (2, 1), (2, 2), (2, 3), (2, 4), (2, 5), (2, 6), (3, 1), (3, 2), (3, 3), (3, 4), (3, 5), (3, 6), (4, 1), (4, 2), (4, 3), (4, 4), (4, 5), (4, 6), (5, 1), (5, 2), (5, 3), (5, 4), (5, 5), (5, 6), (6, 1), (6, 2), (6, 3), (6, 4), (6, 5), (6, 6)]\n"
     ]
    }
   ],
   "source": [
    "#Finding two dice possible combination?\n",
    "lt=[(i,j) for i in range(1,7) for  j in range(1,7)]\n",
    "print(lt)"
   ]
  },
  {
   "cell_type": "code",
   "execution_count": 54,
   "id": "9e08fceb-690e-4b89-8388-2724cfe583e4",
   "metadata": {},
   "outputs": [
    {
     "name": "stdout",
     "output_type": "stream",
     "text": [
      "[(1, 5), (2, 4), (3, 3), (4, 2), (5, 1)]\n"
     ]
    }
   ],
   "source": [
    "# sum of 6  combination in two dices?\n",
    "lt=[(i,j) for i in  range(1,7) for j in range(1,7)  if i+j==6]\n",
    "print(lt)"
   ]
  },
  {
   "cell_type": "code",
   "execution_count": 55,
   "id": "2f37360d-ef11-424c-b96f-965245856c39",
   "metadata": {},
   "outputs": [
    {
     "name": "stdout",
     "output_type": "stream",
     "text": [
      "[(1, 4), (2, 4), (3, 4), (4, 1), (4, 2), (4, 3), (4, 4), (4, 5), (4, 6), (5, 4), (6, 4)]\n"
     ]
    }
   ],
   "source": [
    "#Atleast one dice facing 4?\n",
    "lt=[(i,j) for i in  range(1,7) for j in range(1,7)  if i==4 or j==4]\n",
    "print(lt)"
   ]
  },
  {
   "cell_type": "code",
   "execution_count": 31,
   "id": "6acbef30-3e27-4768-9d31-8429e2629476",
   "metadata": {},
   "outputs": [
    {
     "name": "stdout",
     "output_type": "stream",
     "text": [
      "-20\n",
      "24\n",
      "6\n"
     ]
    }
   ],
   "source": [
    "#Give a string of numbers seperated by comma a nd space,return the product of the numbers?\n",
    "def product_of_numbers(number_string):\n",
    "    numbers = number_string.split(\",\")\n",
    "    product = 1\n",
    "    for num in numbers:\n",
    "        product *= int(num)\n",
    "    return product\n",
    "print(product_of_numbers(\"10,-2\"))\n",
    "print(product_of_numbers(\"1,2,3,4\"))\n",
    "print(product_of_numbers(\"1,2,3\"))"
   ]
  },
  {
   "cell_type": "code",
   "execution_count": 35,
   "id": "5b38929a-d0d6-4524-b1fa-9384d8c879a8",
   "metadata": {},
   "outputs": [
    {
     "name": "stdout",
     "output_type": "stream",
     "text": [
      "811181\n",
      "416649\n",
      "9414\n"
     ]
    }
   ],
   "source": [
    "#create a function that squares every digit of number?\n",
    "def square_digits(num):\n",
    "    squared_str = ''.join(str(int(digit)**2) for digit in str(num))\n",
    "    return int(squared_str)\n",
    "print(square_digits(9119))\n",
    "print(square_digits(2483))\n",
    "print(square_digits(3212))"
   ]
  },
  {
   "cell_type": "code",
   "execution_count": 26,
   "id": "8af38f4d-6aed-4ef4-b736-f846288b8706",
   "metadata": {},
   "outputs": [
    {
     "name": "stdout",
     "output_type": "stream",
     "text": [
      "3\n",
      "3\n",
      "6\n"
     ]
    }
   ],
   "source": [
    "#create a function that returns the mean of all digit?\n",
    "def mean(num):\n",
    " digits=[int(d) for d in str(num) if d.isdigit()]\n",
    " return sum(digits)/len(digits) if digits else 0\n",
    "print(int(mean(42)))\n",
    "print(int(mean(12345)))\n",
    "print(int(mean(666)))"
   ]
  },
  {
   "cell_type": "code",
   "execution_count": 27,
   "id": "95083e9a-32f2-4e69-baf9-f5fdb24f4f37",
   "metadata": {},
   "outputs": [
    {
     "name": "stdout",
     "output_type": "stream",
     "text": [
      "[1, 3, 5]\n",
      "[4]\n",
      "[5, 7, 8, 9, 10]\n",
      "[1, 2, 3]\n"
     ]
    }
   ],
   "source": [
    "#create a function that sort a list and remove all duplicates item in the list?\n",
    "def unique_in_list(lst):\n",
    "    return sorted(set(lst))\n",
    "print(unique_in_list([1,3,3,5,5]))\n",
    "print(unique_in_list([4,4,4,4]))\n",
    "print(unique_in_list([5,7,8,9,10]))\n",
    "print(unique_in_list([3,3,3,2,1]))"
   ]
  },
  {
   "cell_type": "code",
   "execution_count": null,
   "id": "84514d0e-2dfd-4e9b-80d8-e5ec57b394a4",
   "metadata": {},
   "outputs": [],
   "source": []
  }
 ],
 "metadata": {
  "kernelspec": {
   "display_name": "Python [conda env:base] *",
   "language": "python",
   "name": "conda-base-py"
  },
  "language_info": {
   "codemirror_mode": {
    "name": "ipython",
    "version": 3
   },
   "file_extension": ".py",
   "mimetype": "text/x-python",
   "name": "python",
   "nbconvert_exporter": "python",
   "pygments_lexer": "ipython3",
   "version": "3.12.7"
  }
 },
 "nbformat": 4,
 "nbformat_minor": 5
}
