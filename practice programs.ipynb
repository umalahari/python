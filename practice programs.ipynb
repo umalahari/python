{
 "cells": [
  {
   "cell_type": "code",
   "execution_count": 1,
   "id": "0054bd9b-0538-420f-9297-8fb63b6dc2d1",
   "metadata": {},
   "outputs": [
    {
     "name": "stdout",
     "output_type": "stream",
     "text": [
      "false\n"
     ]
    }
   ],
   "source": [
    "a=10\n",
    "b=20\n",
    "if a==20:\n",
    "    print(\"true\")\n",
    "print(\"false\")\n"
   ]
  },
  {
   "cell_type": "code",
   "execution_count": 2,
   "id": "e2cc8acf-56ab-4a9b-9d59-f9245278edb6",
   "metadata": {},
   "outputs": [
    {
     "name": "stdin",
     "output_type": "stream",
     "text": [
      " 5\n"
     ]
    },
    {
     "name": "stdout",
     "output_type": "stream",
     "text": [
      "program done\n"
     ]
    }
   ],
   "source": [
    "num=int(input())\n",
    "if num==0:\n",
    "    print(\"the number is zero\")\n",
    "print(\"program done\")"
   ]
  },
  {
   "cell_type": "code",
   "execution_count": 3,
   "id": "6a9b43a8-bb11-402b-b518-4fda4e0f768d",
   "metadata": {},
   "outputs": [
    {
     "name": "stdin",
     "output_type": "stream",
     "text": [
      " 5\n"
     ]
    },
    {
     "name": "stdout",
     "output_type": "stream",
     "text": [
      "the number is not zero\n"
     ]
    }
   ],
   "source": [
    "num=int(input())\n",
    "if num==0:\n",
    "    print(\"the number is zero\")\n",
    "else:\n",
    "    print(\"the number is not zero\")\n"
   ]
  },
  {
   "cell_type": "code",
   "execution_count": 6,
   "id": "54e711da-8a46-43a4-9a9c-f654bee4c1a7",
   "metadata": {},
   "outputs": [
    {
     "name": "stdin",
     "output_type": "stream",
     "text": [
      " 22\n"
     ]
    },
    {
     "name": "stdout",
     "output_type": "stream",
     "text": [
      "22years person eligible for vote\n"
     ]
    }
   ],
   "source": [
    "#checking wheather the person  is eligible for vote or not\n",
    "age=int(input())\n",
    "if age >= 18:\n",
    "    print(f'{age}years person eligible for vote')\n",
    "else:\n",
    "    print(f'{age} year person is not eliginle for vote')"
   ]
  },
  {
   "cell_type": "code",
   "execution_count": 9,
   "id": "3d00f8fd-b42a-469c-9633-07aa79e9335d",
   "metadata": {},
   "outputs": [
    {
     "name": "stdin",
     "output_type": "stream",
     "text": [
      " -3\n"
     ]
    },
    {
     "name": "stdout",
     "output_type": "stream",
     "text": [
      "not a positive number\n"
     ]
    }
   ],
   "source": [
    "#check the given number is positive or not\n",
    "num=int(input())\n",
    "if num>=0:\n",
    "    print(\"positive number\")\n",
    "else:\n",
    "    print(\"not a positive number\")"
   ]
  },
  {
   "cell_type": "code",
   "execution_count": 25,
   "id": "a2713895-b7b2-4024-8d6c-bd93b8e34a9d",
   "metadata": {},
   "outputs": [
    {
     "name": "stdin",
     "output_type": "stream",
     "text": [
      " 2100\n"
     ]
    },
    {
     "name": "stdout",
     "output_type": "stream",
     "text": [
      "2100 is leap year\n"
     ]
    }
   ],
   "source": [
    "#check leap year\n",
    "year=int(input())\n",
    "if year%4==0:\n",
    "    print(f'{year} is leap year')\n",
    "elif year%4==0 and year%400==0:\n",
    "    print(f'{year} is leap year')\n",
    "elif year%4==0 and year%100!=0:\n",
    "    print(f'{year} is leap year')\n",
    "else:\n",
    "    print(f'{year} is not aleap year')"
   ]
  },
  {
   "cell_type": "code",
   "execution_count": 23,
   "id": "dd3f0170-72e5-4c6c-ac69-88af09bdd670",
   "metadata": {},
   "outputs": [
    {
     "name": "stdin",
     "output_type": "stream",
     "text": [
      " 2100\n"
     ]
    },
    {
     "name": "stdout",
     "output_type": "stream",
     "text": [
      "2100 is not a leap year\n"
     ]
    }
   ],
   "source": [
    "year=int(input())\n",
    "if (year%4==0 and year%100!=0) or year%400==0:\n",
    "    print(f'{year} is leap year')\n",
    "else:\n",
    "    print(f'{year} is not a leap year')"
   ]
  },
  {
   "cell_type": "code",
   "execution_count": null,
   "id": "06d493d9-2aac-47fd-932b-b078e5b2cc72",
   "metadata": {},
   "outputs": [],
   "source": []
  }
 ],
 "metadata": {
  "kernelspec": {
   "display_name": "Python [conda env:anaconda3]",
   "language": "python",
   "name": "conda-env-anaconda3-py"
  },
  "language_info": {
   "codemirror_mode": {
    "name": "ipython",
    "version": 3
   },
   "file_extension": ".py",
   "mimetype": "text/x-python",
   "name": "python",
   "nbconvert_exporter": "python",
   "pygments_lexer": "ipython3",
   "version": "3.12.7"
  }
 },
 "nbformat": 4,
 "nbformat_minor": 5
}
