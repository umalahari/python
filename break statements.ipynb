{
 "cells": [
  {
   "cell_type": "code",
   "execution_count": 6,
   "id": "48740807-a84e-434b-9897-c6755678d75f",
   "metadata": {},
   "outputs": [
    {
     "name": "stdout",
     "output_type": "stream",
     "text": [
      "0 1 2 3 5 6 7 \n",
      "program done\n"
     ]
    }
   ],
   "source": [
    "n=8\n",
    "for i in range(n):\n",
    "    if i == 4:\n",
    "        continue\n",
    "    print(i, end=\" \")\n",
    "print()\n",
    "print(\"program done\")"
   ]
  },
  {
   "cell_type": "code",
   "execution_count": 8,
   "id": "b648b540-f668-434e-8fe2-ca1a40008960",
   "metadata": {},
   "outputs": [
    {
     "name": "stdout",
     "output_type": "stream",
     "text": [
      "0123567\n",
      "program done\n"
     ]
    }
   ],
   "source": [
    "n=8\n",
    "for i in range(n):\n",
    "    if i==4:\n",
    "        continue\n",
    "        print(\"four\",end='')\n",
    "    print(i,end=\"\")\n",
    "print()\n",
    "print(\"program done\")"
   ]
  },
  {
   "cell_type": "code",
   "execution_count": 9,
   "id": "a200b8e9-c0e4-4ea3-945f-387e1e723893",
   "metadata": {},
   "outputs": [
    {
     "name": "stdout",
     "output_type": "stream",
     "text": [
      "1\n",
      "3\n",
      "4\n"
     ]
    }
   ],
   "source": [
    "i=0\n",
    "while i<4:\n",
    "    i+=1\n",
    "    if i==2:\n",
    "        continue\n",
    "    print(i)"
   ]
  },
  {
   "cell_type": "code",
   "execution_count": 11,
   "id": "7cbaf44a-88b9-4e22-a591-4dccad810d50",
   "metadata": {},
   "outputs": [
    {
     "name": "stdout",
     "output_type": "stream",
     "text": [
      "1 0\n",
      "2 0\n",
      "2 1\n"
     ]
    }
   ],
   "source": [
    "for i in range(3):\n",
    "    for j in range(3):\n",
    "        if i == j:\n",
    "            break\n",
    "        print(i,j)"
   ]
  },
  {
   "cell_type": "code",
   "execution_count": 3,
   "id": "5a1838bc-0f5e-4d3c-91e6-6b31d3a4ef27",
   "metadata": {},
   "outputs": [
    {
     "name": "stdout",
     "output_type": "stream",
     "text": [
      "1 3 "
     ]
    }
   ],
   "source": [
    "for i in range(5):\n",
    "    if i%2==0:\n",
    "        continue\n",
    "    print(i,end=\" \")"
   ]
  },
  {
   "cell_type": "code",
   "execution_count": 7,
   "id": "039e1f54-8fe0-493b-8762-770ff25e4ab4",
   "metadata": {},
   "outputs": [
    {
     "name": "stdout",
     "output_type": "stream",
     "text": [
      "0 1 2 3 "
     ]
    }
   ],
   "source": [
    "n=8\n",
    "for i in range(n):\n",
    "    if i==4:\n",
    "        break\n",
    "        print(\"Four\",end =' ')\n",
    "    print(i, end=\" \")\n",
    "else:\n",
    "    print(\"program done\")"
   ]
  },
  {
   "cell_type": "code",
   "execution_count": 8,
   "id": "4c22ef11-cae3-4524-af2e-4e25e5aed151",
   "metadata": {},
   "outputs": [
    {
     "name": "stdout",
     "output_type": "stream",
     "text": [
      "0 1 2 3 Four 4 5 6 7 program done\n"
     ]
    }
   ],
   "source": [
    "n=8\n",
    "for i in range(n):\n",
    "    if i==4:\n",
    "        #break\n",
    "        print(\"Four\",end =' ')\n",
    "    print(i, end=\" \")\n",
    "else:\n",
    "    print(\"program done\")"
   ]
  },
  {
   "cell_type": "code",
   "execution_count": 12,
   "id": "30922152-e8ab-40d9-9519-08b80ded44b9",
   "metadata": {},
   "outputs": [
    {
     "name": "stdout",
     "output_type": "stream",
     "text": [
      "3 in list\n"
     ]
    }
   ],
   "source": [
    "l=[1,2,3,4,5]\n",
    "n=3\n",
    "for num in l:\n",
    "    if num==n:\n",
    "        print(f\"{n} in list\")\n",
    "        break\n",
    "else:\n",
    "    print(f\"{n} not in list\")"
   ]
  },
  {
   "cell_type": "code",
   "execution_count": 13,
   "id": "ce5511d9-9f37-44e7-a808-4e2e971abb0c",
   "metadata": {},
   "outputs": [
    {
     "name": "stdout",
     "output_type": "stream",
     "text": [
      "15 not in list\n"
     ]
    }
   ],
   "source": [
    "l=[1,2,3,4,5]\n",
    "n=15\n",
    "for num in l:\n",
    "    if num==n:\n",
    "        print(f\"{n} in list\")\n",
    "        continue\n",
    "else:\n",
    "    print(f\"{n} not in list\")"
   ]
  },
  {
   "cell_type": "code",
   "execution_count": 15,
   "id": "2901eabf-1783-40dc-a1fc-5b6ef7056a30",
   "metadata": {},
   "outputs": [
    {
     "name": "stdout",
     "output_type": "stream",
     "text": [
      "15 not in list\n"
     ]
    }
   ],
   "source": [
    "l=[1,2,3,4,5]\n",
    "n=15\n",
    "i=0\n",
    "while i<len(l):\n",
    "    if l[i]==n:\n",
    "        print(f\"{n} in list\")\n",
    "        break\n",
    "    i+=1\n",
    "else:\n",
    "    print(f\"{n} not in list\")"
   ]
  },
  {
   "cell_type": "code",
   "execution_count": 21,
   "id": "0175991b-638b-42e0-8e2a-eda7ee22587b",
   "metadata": {},
   "outputs": [
    {
     "name": "stdin",
     "output_type": "stream",
     "text": [
      " 10\n"
     ]
    },
    {
     "name": "stdout",
     "output_type": "stream",
     "text": [
      "15\n"
     ]
    }
   ],
   "source": [
    "x=int(input())\n",
    "assert x>0,'value must be positive'\n",
    "print(x+5)"
   ]
  },
  {
   "cell_type": "code",
   "execution_count": null,
   "id": "5d06819b-633f-447b-b78e-bffccf3a963f",
   "metadata": {},
   "outputs": [],
   "source": []
  }
 ],
 "metadata": {
  "kernelspec": {
   "display_name": "Python [conda env:anaconda3]",
   "language": "python",
   "name": "conda-env-anaconda3-py"
  },
  "language_info": {
   "codemirror_mode": {
    "name": "ipython",
    "version": 3
   },
   "file_extension": ".py",
   "mimetype": "text/x-python",
   "name": "python",
   "nbconvert_exporter": "python",
   "pygments_lexer": "ipython3",
   "version": "3.12.7"
  }
 },
 "nbformat": 4,
 "nbformat_minor": 5
}
