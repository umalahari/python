{
 "cells": [
  {
   "cell_type": "code",
   "execution_count": 12,
   "id": "c08d11bd-042e-4acd-9a2d-3ee436dd4e14",
   "metadata": {},
   "outputs": [
    {
     "name": "stdout",
     "output_type": "stream",
     "text": [
      "1\n",
      "2\n",
      "3\n",
      "4\n",
      "5\n"
     ]
    }
   ],
   "source": [
    "for num in range (1,6):\n",
    "    print(num)\n"
   ]
  },
  {
   "cell_type": "code",
   "execution_count": 14,
   "id": "403d5395-7064-4641-a606-a62deca996c9",
   "metadata": {},
   "outputs": [
    {
     "name": "stdout",
     "output_type": "stream",
     "text": [
      "10\n",
      "9\n",
      "8\n",
      "7\n",
      "6\n",
      "5\n",
      "4\n",
      "3\n",
      "2\n"
     ]
    }
   ],
   "source": [
    "for i in range(10,1,-1):\n",
    "    print(i)"
   ]
  },
  {
   "cell_type": "code",
   "execution_count": 15,
   "id": "e02b3a26-9a8a-48bd-ac1b-2c855050c567",
   "metadata": {},
   "outputs": [
    {
     "name": "stdout",
     "output_type": "stream",
     "text": [
      "0 10\n",
      "1 12\n",
      "2 15\n",
      "3 20\n",
      "4 25\n"
     ]
    }
   ],
   "source": [
    "l=[10,12,15,20,25]\n",
    "length=5\n",
    "for i in range(length):\n",
    "    print(i,l[i])"
   ]
  },
  {
   "cell_type": "code",
   "execution_count": 16,
   "id": "10a1b096-a880-4ab5-91e9-43fc4ada2768",
   "metadata": {},
   "outputs": [
    {
     "name": "stdout",
     "output_type": "stream",
     "text": [
      "10\n",
      "12\n",
      "15\n",
      "20\n",
      "25\n"
     ]
    }
   ],
   "source": [
    "l=[10,12,15,20,25]\n",
    "for num in l:\n",
    "    print(num)"
   ]
  },
  {
   "cell_type": "code",
   "execution_count": 5,
   "id": "3e13d2f3-86df-4df3-b0a3-cea1fe09eef9",
   "metadata": {},
   "outputs": [
    {
     "name": "stdout",
     "output_type": "stream",
     "text": [
      "0\n",
      "1\n",
      "2\n",
      "3\n",
      "4\n"
     ]
    }
   ],
   "source": [
    "num = 0\n",
    "while num <5:\n",
    "    print(num)\n",
    "    num+=1"
   ]
  },
  {
   "cell_type": "code",
   "execution_count": 10,
   "id": "4325b20f-6d09-4d77-8cd2-efdb598bdfec",
   "metadata": {},
   "outputs": [
    {
     "name": "stdin",
     "output_type": "stream",
     "text": [
      " apple\n",
      " Apple\n"
     ]
    },
    {
     "name": "stdout",
     "output_type": "stream",
     "text": [
      "strings are not equal\n"
     ]
    }
   ],
   "source": [
    "s1=input()\n",
    "s2=input()\n",
    "if s1==s2:\n",
    "    print(\"strings are equal\")\n",
    "else:\n",
    "    print(\"strings are not equal\")"
   ]
  },
  {
   "cell_type": "code",
   "execution_count": 14,
   "id": "3e7e2a1f-6d8c-4767-876f-3c8f38f82343",
   "metadata": {},
   "outputs": [
    {
     "name": "stdin",
     "output_type": "stream",
     "text": [
      " 15\n"
     ]
    },
    {
     "name": "stdout",
     "output_type": "stream",
     "text": [
      "15 is divisible by 3 and 5\n"
     ]
    }
   ],
   "source": [
    "num=int(input())\n",
    "if num%3==0 and num%5==0:\n",
    "    print(f\"{num} is divisible by 3 and 5\")\n",
    "else:\n",
    "    print(f\"{num} is not divisible by 3 and 5\")\n",
    "    "
   ]
  },
  {
   "cell_type": "code",
   "execution_count": 15,
   "id": "66375de7-10c5-4c2b-98e6-031a3aae6bbd",
   "metadata": {},
   "outputs": [
    {
     "name": "stdin",
     "output_type": "stream",
     "text": [
      " codegnan\n"
     ]
    },
    {
     "name": "stdout",
     "output_type": "stream",
     "text": [
      "vowels:3, consonants: 5\n"
     ]
    }
   ],
   "source": [
    "string=input()\n",
    "v = c = 0\n",
    "for i in string:\n",
    "    if i=='a' or i=='e' or i=='i' or i=='o' or i=='u':\n",
    "        v+=1\n",
    "    else:\n",
    "        c+=1\n",
    "print(f\"vowels:{v}, consonants: {c}\")"
   ]
  },
  {
   "cell_type": "code",
   "execution_count": 19,
   "id": "e331c10c-ce08-4b6c-9394-82a1af9db0c5",
   "metadata": {},
   "outputs": [
    {
     "name": "stdin",
     "output_type": "stream",
     "text": [
      " codegnan\n"
     ]
    },
    {
     "name": "stdout",
     "output_type": "stream",
     "text": [
      "3 5\n"
     ]
    }
   ],
   "source": [
    "string=input()\n",
    "v = c = 0\n",
    "vowels={'a','e','i','o','u'}\n",
    "for char in string:\n",
    "    if char in vowels:\n",
    "        v+=1\n",
    "    else:\n",
    "        c+=1\n",
    "print(v,c)\n"
   ]
  },
  {
   "cell_type": "code",
   "execution_count": 22,
   "id": "ffbe3453-2b22-42fa-918e-cc2f89c05294",
   "metadata": {},
   "outputs": [
    {
     "name": "stdin",
     "output_type": "stream",
     "text": [
      " 1 2 3 4 4 4 5 5 5 8 8 8 9 9 9 7 7 7\n"
     ]
    },
    {
     "name": "stdout",
     "output_type": "stream",
     "text": [
      "[1, 2, 3, 4, 5, 8, 9, 7]\n"
     ]
    }
   ],
   "source": [
    "lst=list(map(int, input().split()))\n",
    "res=[]\n",
    "for num in lst:\n",
    "    if num not in res:\n",
    "        res.append(num)\n",
    "print(res)"
   ]
  },
  {
   "cell_type": "code",
   "execution_count": null,
   "id": "36953164-fa9c-4283-b6e0-953c6d1ca3e1",
   "metadata": {},
   "outputs": [],
   "source": [
    "n=6\n",
    "for i in range(n):\n",
    "    if i==4:\n",
    "    print(i)"
   ]
  },
  {
   "cell_type": "code",
   "execution_count": null,
   "id": "869d1642-f280-4e6e-9d11-c11321af1eec",
   "metadata": {},
   "outputs": [],
   "source": [
    "n=6\n",
    "for i in range(n):\n",
    "    if i==4:\n",
    "    print(i,end=\" \")"
   ]
  },
  {
   "cell_type": "code",
   "execution_count": null,
   "id": "25958f5f-df68-4e6c-906b-8b883cf37ebf",
   "metadata": {},
   "outputs": [],
   "source": []
  }
 ],
 "metadata": {
  "kernelspec": {
   "display_name": "Python [conda env:anaconda3]",
   "language": "python",
   "name": "conda-env-anaconda3-py"
  },
  "language_info": {
   "codemirror_mode": {
    "name": "ipython",
    "version": 3
   },
   "file_extension": ".py",
   "mimetype": "text/x-python",
   "name": "python",
   "nbconvert_exporter": "python",
   "pygments_lexer": "ipython3",
   "version": "3.12.7"
  }
 },
 "nbformat": 4,
 "nbformat_minor": 5
}
