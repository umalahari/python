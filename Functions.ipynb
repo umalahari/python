{
 "cells": [
  {
   "cell_type": "code",
   "execution_count": 4,
   "id": "d0aa378b-d3dc-451e-9225-bdd3f1d4c7ff",
   "metadata": {},
   "outputs": [
    {
     "name": "stdout",
     "output_type": "stream",
     "text": [
      "30\n"
     ]
    }
   ],
   "source": [
    "#function defintion\n",
    "def addition():\n",
    "    a=10\n",
    "    b=20\n",
    "    print(a+b)\n",
    "#function calling\n",
    "addition()"
   ]
  },
  {
   "cell_type": "code",
   "execution_count": 9,
   "id": "2bf45d96-e466-440e-b656-5ac7a67cba8d",
   "metadata": {},
   "outputs": [
    {
     "name": "stdout",
     "output_type": "stream",
     "text": [
      "30\n",
      "None\n"
     ]
    }
   ],
   "source": [
    "#function defintion\n",
    "def addition():\n",
    "    a=10\n",
    "    b=20\n",
    "    print(a+b)\n",
    "#function calling\n",
    "res=addition()\n",
    "print(res)"
   ]
  },
  {
   "cell_type": "code",
   "execution_count": 10,
   "id": "224f6ae9-b375-4ee0-86be-9bc2b6899231",
   "metadata": {},
   "outputs": [
    {
     "name": "stdout",
     "output_type": "stream",
     "text": [
      "30\n"
     ]
    }
   ],
   "source": [
    "#function defintion\n",
    "def addition():\n",
    "    a=10\n",
    "    b=20\n",
    "    return a+b\n",
    "\n",
    "#function calling\n",
    "res=addition()\n",
    "print(res)"
   ]
  },
  {
   "cell_type": "code",
   "execution_count": 11,
   "id": "fdef2532-6f81-4925-8a26-ff6b906a7b76",
   "metadata": {},
   "outputs": [
    {
     "name": "stdout",
     "output_type": "stream",
     "text": [
      "30\n",
      "None\n"
     ]
    }
   ],
   "source": [
    "#function defintion\n",
    "def addition(a, b):\n",
    "    print(a+b)\n",
    "\n",
    "#function calling\n",
    "res=addition(10,20)\n",
    "print(res)\n",
    "    "
   ]
  },
  {
   "cell_type": "code",
   "execution_count": 12,
   "id": "46e2e91f-5679-4f83-aeb0-55db7170a8f3",
   "metadata": {},
   "outputs": [
    {
     "name": "stdout",
     "output_type": "stream",
     "text": [
      "25\n"
     ]
    }
   ],
   "source": [
    "#function defintion\n",
    "def addition(a, b):\n",
    "    c=a+b\n",
    "    return c\n",
    "\n",
    "#function calling\n",
    "res=addition(10, 15)\n",
    "print(res)"
   ]
  },
  {
   "cell_type": "code",
   "execution_count": 13,
   "id": "68c26d68-ecbc-484f-88ab-d6eceeda2721",
   "metadata": {},
   "outputs": [
    {
     "name": "stdout",
     "output_type": "stream",
     "text": [
      "None\n"
     ]
    }
   ],
   "source": [
    "#function defintion\n",
    "def addition(a, b):\n",
    "    c=a+b\n",
    "    #return c\n",
    "\n",
    "#function calling\n",
    "res=addition(10, 15)\n",
    "print(res)"
   ]
  },
  {
   "cell_type": "code",
   "execution_count": 14,
   "id": "4682c8f7-7b22-416d-95ca-531ee386837a",
   "metadata": {},
   "outputs": [
    {
     "name": "stdout",
     "output_type": "stream",
     "text": [
      "15\n",
      "15\n"
     ]
    }
   ],
   "source": [
    "#function defintion\n",
    "def addition(a, b):\n",
    "    print(a+b)\n",
    "    if b<10:\n",
    "        return a+b\n",
    "    else:\n",
    "        return(a-b)\n",
    "\n",
    "#fuction calling\n",
    "res=addition(10,5)\n",
    "print(res)"
   ]
  },
  {
   "cell_type": "code",
   "execution_count": 20,
   "id": "4ee1cc30-0b6f-4d78-991c-d6c3b48d7da1",
   "metadata": {},
   "outputs": [
    {
     "name": "stdout",
     "output_type": "stream",
     "text": [
      "15\n",
      "15\n",
      "None\n"
     ]
    }
   ],
   "source": [
    "#function defintion\n",
    "def addition(a, b):\n",
    "    print(a+b)\n",
    "    if b<10:\n",
    "        print (a+b)\n",
    "    else:\n",
    "        print(a-b)\n",
    "\n",
    "#fuction calling\n",
    "res=addition(10,5)\n",
    "print(res)"
   ]
  },
  {
   "cell_type": "code",
   "execution_count": 21,
   "id": "fce93462-10e2-4f34-920c-624681de742a",
   "metadata": {},
   "outputs": [
    {
     "name": "stdout",
     "output_type": "stream",
     "text": [
      "25\n"
     ]
    }
   ],
   "source": [
    "#function defintion\n",
    "def addition(a, b):\n",
    "    c=a+b\n",
    "    return c\n",
    "\n",
    "#function calling\n",
    "res=addition(10, 15)\n",
    "print(res)"
   ]
  },
  {
   "cell_type": "code",
   "execution_count": 24,
   "id": "1422df15-ffe6-4030-a581-523583ffe563",
   "metadata": {},
   "outputs": [
    {
     "name": "stdout",
     "output_type": "stream",
     "text": [
      "2.0\n"
     ]
    }
   ],
   "source": [
    "#Positional arguments\n",
    "#function defintion\n",
    "def division(a,b):\n",
    "    if b==0:\n",
    "        return \"Zero division not possible\"\n",
    "    return a / b\n",
    "\n",
    "#function calling\n",
    "c,d=10,5\n",
    "res=division(c,d)\n",
    "print(res)"
   ]
  },
  {
   "cell_type": "code",
   "execution_count": 25,
   "id": "7381f802-9963-48e5-887f-74a39e28b9b1",
   "metadata": {},
   "outputs": [
    {
     "name": "stdout",
     "output_type": "stream",
     "text": [
      "0.5\n"
     ]
    }
   ],
   "source": [
    "#function defintion\n",
    "def division(a,b):\n",
    "    if b==0:\n",
    "        return \"Zero division not possible\"\n",
    "    return a / b\n",
    "\n",
    "#function calling\n",
    "c,d=10,5\n",
    "res=division(d,c)\n",
    "print(res)"
   ]
  },
  {
   "cell_type": "code",
   "execution_count": 26,
   "id": "adf4d1da-1357-4097-b942-cda2a41171c1",
   "metadata": {},
   "outputs": [
    {
     "name": "stdout",
     "output_type": "stream",
     "text": [
      "2.0\n"
     ]
    }
   ],
   "source": [
    "#keyword Arguments\n",
    "#function defintion\n",
    "def division(a,b):\n",
    "    if b==0:\n",
    "        return \"Zero division not possible\"\n",
    "    return a/b\n",
    "\n",
    "#function calling\n",
    "c,d=10,5\n",
    "res=division(b=d,a=c)\n",
    "print(res)"
   ]
  },
  {
   "cell_type": "code",
   "execution_count": 27,
   "id": "09b1901b-8fbc-4a56-ab26-1782dc03d816",
   "metadata": {},
   "outputs": [
    {
     "name": "stdout",
     "output_type": "stream",
     "text": [
      "2.1\n"
     ]
    }
   ],
   "source": [
    "#function defintion\n",
    "def division(a:int,b):\n",
    "    if b==0:\n",
    "        return \"Zero division not possible\"\n",
    "    return a/b\n",
    "\n",
    "#function calling\n",
    "c,d=10,5\n",
    "res=division(b=d,a=10.5)\n",
    "print(res)"
   ]
  },
  {
   "cell_type": "code",
   "execution_count": 28,
   "id": "ba62f50c-86d6-4d5c-804c-2489a53226f3",
   "metadata": {},
   "outputs": [
    {
     "name": "stdout",
     "output_type": "stream",
     "text": [
      "32\n"
     ]
    }
   ],
   "source": [
    "def addition(a,b):\n",
    "    return a+b\n",
    "res = addition(20,12)\n",
    "print(res)"
   ]
  },
  {
   "cell_type": "code",
   "execution_count": 30,
   "id": "ef819a92-b8ab-4cee-9b5f-227c01943ebe",
   "metadata": {},
   "outputs": [
    {
     "name": "stdout",
     "output_type": "stream",
     "text": [
      "22\n"
     ]
    }
   ],
   "source": [
    "def addition(a,b):\n",
    "    return a+b\n",
    "c,d=10,12\n",
    "res = addition(a=c,b=d)\n",
    "print(res)"
   ]
  },
  {
   "cell_type": "code",
   "execution_count": 31,
   "id": "2f9bf4e6-88fe-436d-97f8-60d4589f59cf",
   "metadata": {},
   "outputs": [
    {
     "name": "stdout",
     "output_type": "stream",
     "text": [
      "20\n"
     ]
    }
   ],
   "source": [
    "#default argument\n",
    "#function defintion\n",
    "def addition(a,b,c = 0):\n",
    "    return a+b+c\n",
    "#function calling\n",
    "res=addition(10,15,-5)\n",
    "print(res)"
   ]
  },
  {
   "cell_type": "code",
   "execution_count": 35,
   "id": "4e1b7b9b-65fc-4ae3-89b1-f40d1f2ca4f0",
   "metadata": {},
   "outputs": [
    {
     "name": "stdout",
     "output_type": "stream",
     "text": [
      "25 20 45\n"
     ]
    }
   ],
   "source": [
    "#fucntion defintion\n",
    "def addition(a,b,c = 0,d=0):\n",
    "    return a+b+c+d\n",
    "\n",
    "#function calling\n",
    "res1=addition(10,15)\n",
    "res2=addition(10,15,-5)\n",
    "res3=addition(10,15,10,10)\n",
    "print(res1,res2,res3)"
   ]
  },
  {
   "cell_type": "code",
   "execution_count": 8,
   "id": "e6c685cc-fcb2-400e-aeff-3487379cbde4",
   "metadata": {},
   "outputs": [
    {
     "name": "stdin",
     "output_type": "stream",
     "text": [
      " 9\n"
     ]
    },
    {
     "name": "stdout",
     "output_type": "stream",
     "text": [
      "9 is a perfect square\n"
     ]
    }
   ],
   "source": [
    "#given number is perfect square or not\n",
    "num=int(input())\n",
    "sqrt=int(num**0.5)\n",
    "if sqrt*sqrt==num:\n",
    "    print(f\"{num} is a perfect square\")\n",
    "else:\n",
    "    print(f\"{num} is not a perfect square\")"
   ]
  },
  {
   "cell_type": "code",
   "execution_count": 9,
   "id": "f165fec8-5962-464a-b28e-f56195a3222f",
   "metadata": {},
   "outputs": [
    {
     "data": {
      "text/plain": [
       "3.0"
      ]
     },
     "execution_count": 9,
     "metadata": {},
     "output_type": "execute_result"
    }
   ],
   "source": [
    "9**0.5\n"
   ]
  },
  {
   "cell_type": "code",
   "execution_count": 10,
   "id": "ad4a5023-80ba-4a51-90c5-c3af6dbf8a8c",
   "metadata": {},
   "outputs": [
    {
     "data": {
      "text/plain": [
       "5.0"
      ]
     },
     "execution_count": 10,
     "metadata": {},
     "output_type": "execute_result"
    }
   ],
   "source": [
    "25**0.5"
   ]
  },
  {
   "cell_type": "code",
   "execution_count": 17,
   "id": "55d03b6f-31e2-4849-b5c0-28e4e04cf465",
   "metadata": {},
   "outputs": [
    {
     "name": "stdin",
     "output_type": "stream",
     "text": [
      " 10\n"
     ]
    },
    {
     "name": "stdout",
     "output_type": "stream",
     "text": [
      "3\n",
      "10 is not a perfect square\n"
     ]
    }
   ],
   "source": [
    "num=int(input())\n",
    "sqrt=int(num**0.5)\n",
    "print(sqrt)\n",
    "if sqrt*sqrt==num:\n",
    "    print(f\"{num} is a perfect square\")\n",
    "else:\n",
    "    print(f\"{num} is not a perfect square\")"
   ]
  },
  {
   "cell_type": "code",
   "execution_count": 28,
   "id": "406d21dc-6dc9-4afb-9b67-63a42cd00080",
   "metadata": {},
   "outputs": [
    {
     "name": "stdout",
     "output_type": "stream",
     "text": [
      "<class 'tuple'>\n",
      "()\n",
      "0\n"
     ]
    }
   ],
   "source": [
    "#Variable Length Arguments\n",
    "#function defintion\n",
    "def addition(a,*args):\n",
    "    print(type(args))\n",
    "    print(args)\n",
    "    s=0\n",
    "    for num in args:\n",
    "        s=s+num\n",
    "    return s\n",
    "\n",
    "#function calling\n",
    "res=addition(10,15,10,20,30,40,1,2,3,4,5)\n",
    "print(res)\n"
   ]
  },
  {
   "cell_type": "code",
   "execution_count": 19,
   "id": "99a81b57-f502-4c45-9961-33ca487bac69",
   "metadata": {},
   "outputs": [
    {
     "name": "stdout",
     "output_type": "stream",
     "text": [
      "10 [20, 30]\n"
     ]
    }
   ],
   "source": [
    "a,*b=10,20,30\n",
    "print(a,b)"
   ]
  },
  {
   "cell_type": "code",
   "execution_count": 20,
   "id": "6b8e001a-1aa7-4d71-a306-e3cc71742532",
   "metadata": {},
   "outputs": [
    {
     "name": "stdout",
     "output_type": "stream",
     "text": [
      "10 []\n"
     ]
    }
   ],
   "source": [
    "a,*b=10,\n",
    "print(a,b)"
   ]
  },
  {
   "cell_type": "code",
   "execution_count": 29,
   "id": "7821d82e-812a-48df-beda-59f2f9a9687f",
   "metadata": {},
   "outputs": [
    {
     "name": "stdout",
     "output_type": "stream",
     "text": [
      "<class 'tuple'>\n",
      "()\n",
      "0\n"
     ]
    }
   ],
   "source": [
    "#Variable Length Arguments\n",
    "#function defintion\n",
    "def addition(a,*args):\n",
    "    print(type(args))\n",
    "    print(args)\n",
    "    s=0\n",
    "    for num in args:\n",
    "        s=s+num\n",
    "    return s\n",
    "\n",
    "#function calling\n",
    "res=addition(10)#,15,10,20,30,40,1,2,3,4,5)\n",
    "print(res)"
   ]
  },
  {
   "cell_type": "code",
   "execution_count": 34,
   "id": "907fe3d3-f62e-4596-88cf-285d983f7106",
   "metadata": {},
   "outputs": [
    {
     "name": "stdout",
     "output_type": "stream",
     "text": [
      "<class 'dict'>\n",
      "None\n"
     ]
    }
   ],
   "source": [
    "#Variable Keyword Arguments\n",
    "def addition(a,**kwargs):\n",
    " print(type(kwargs))\n",
    "print(addition(b=20,a=10))"
   ]
  },
  {
   "cell_type": "code",
   "execution_count": 35,
   "id": "4a258e5d-62f3-4eab-9e56-a743bbdf7933",
   "metadata": {},
   "outputs": [
    {
     "name": "stdout",
     "output_type": "stream",
     "text": [
      "<class 'dict'>\n",
      "{'b': 20, 'c': 20, 'd': 30, 'e': 40}\n",
      "None\n"
     ]
    }
   ],
   "source": [
    "def addition(a,**kwargs):\n",
    "    print(type(kwargs))\n",
    "    print(kwargs)\n",
    "print(addition(b=20,a=10,c=20,d=30,e=40))"
   ]
  },
  {
   "cell_type": "code",
   "execution_count": 36,
   "id": "6a403b3e-d9d8-4dbd-b31f-933ef113c81e",
   "metadata": {},
   "outputs": [
    {
     "ename": "SyntaxError",
     "evalue": "positional argument follows keyword argument (2847834397.py, line 4)",
     "output_type": "error",
     "traceback": [
      "\u001b[1;36m  Cell \u001b[1;32mIn[36], line 4\u001b[1;36m\u001b[0m\n\u001b[1;33m    print(addition(b=20,a=10,c=20,d=30,40))\u001b[0m\n\u001b[1;37m                                         ^\u001b[0m\n\u001b[1;31mSyntaxError\u001b[0m\u001b[1;31m:\u001b[0m positional argument follows keyword argument\n"
     ]
    }
   ],
   "source": [
    "def addition(a,**kwargs):\n",
    "    print(type(kwargs))\n",
    "    print(kwargs)\n",
    "print(addition(b=20,a=10,c=20,d=30,40))"
   ]
  },
  {
   "cell_type": "code",
   "execution_count": 37,
   "id": "455c59de-ef41-475c-b43c-efe1e1007302",
   "metadata": {},
   "outputs": [
    {
     "name": "stdout",
     "output_type": "stream",
     "text": [
      "<class 'dict'>\n",
      "{'b': 20, 'c': 20, 'd': 30, 'e': 40}\n",
      "10 {'b': 20, 'c': 20, 'd': 30, 'e': 40}\n",
      "None\n"
     ]
    }
   ],
   "source": [
    "def addition(a,**kwargs):\n",
    "    print(type(kwargs))\n",
    "    print(kwargs)\n",
    "    print(a,kwargs)\n",
    "print(addition(b=20,a=10,c=20,d=30,e=40))"
   ]
  },
  {
   "cell_type": "code",
   "execution_count": 42,
   "id": "b80bff92-6482-45e3-80e8-3daba0abbb90",
   "metadata": {},
   "outputs": [
    {
     "name": "stdout",
     "output_type": "stream",
     "text": [
      "<class 'dict'>\n",
      "40 {'b': 20, 'c': 20, 'e': 30}\n",
      "70\n"
     ]
    }
   ],
   "source": [
    "def addition(a,**kwargs):\n",
    "    print(type(kwargs))\n",
    "    print(a,kwargs)\n",
    "    s=0\n",
    "    for val in kwargs.values():\n",
    "        s+=val\n",
    "    return s\n",
    "print(addition(40,b=20,c=20,e=30))"
   ]
  },
  {
   "cell_type": "code",
   "execution_count": 43,
   "id": "288bb3ca-f384-4d83-8333-11fb2e6ff9a2",
   "metadata": {},
   "outputs": [
    {
     "name": "stdout",
     "output_type": "stream",
     "text": [
      "5\n"
     ]
    },
    {
     "ename": "NameError",
     "evalue": "name 'x' is not defined",
     "output_type": "error",
     "traceback": [
      "\u001b[1;31m---------------------------------------------------------------------------\u001b[0m",
      "\u001b[1;31mNameError\u001b[0m                                 Traceback (most recent call last)",
      "Cell \u001b[1;32mIn[43], line 5\u001b[0m\n\u001b[0;32m      3\u001b[0m     \u001b[38;5;28mprint\u001b[39m(x)\n\u001b[0;32m      4\u001b[0m fun()\n\u001b[1;32m----> 5\u001b[0m \u001b[38;5;28mprint\u001b[39m(x)\n",
      "\u001b[1;31mNameError\u001b[0m: name 'x' is not defined"
     ]
    }
   ],
   "source": [
    "#local variable\n",
    "def fun():\n",
    "    x=5\n",
    "    print(x)\n",
    "fun()\n",
    "print(x)"
   ]
  },
  {
   "cell_type": "code",
   "execution_count": 45,
   "id": "69349d91-43c6-4ba7-af7e-616ea17d3f18",
   "metadata": {},
   "outputs": [
    {
     "name": "stdout",
     "output_type": "stream",
     "text": [
      "10\n",
      "11\n"
     ]
    }
   ],
   "source": [
    "#global variable\n",
    "x=10\n",
    "def fun():\n",
    "    print(x)\n",
    "fun()\n",
    "x=x+1\n",
    "print(x)"
   ]
  },
  {
   "cell_type": "code",
   "execution_count": 51,
   "id": "f7ea2f13-9b12-4d80-aa66-41ce60c50211",
   "metadata": {},
   "outputs": [
    {
     "ename": "UnboundLocalError",
     "evalue": "cannot access local variable 'x' where it is not associated with a value",
     "output_type": "error",
     "traceback": [
      "\u001b[1;31m---------------------------------------------------------------------------\u001b[0m",
      "\u001b[1;31mUnboundLocalError\u001b[0m                         Traceback (most recent call last)",
      "Cell \u001b[1;32mIn[51], line 5\u001b[0m\n\u001b[0;32m      3\u001b[0m     x\u001b[38;5;241m=\u001b[39mx\u001b[38;5;241m+\u001b[39m\u001b[38;5;241m2\u001b[39m\n\u001b[0;32m      4\u001b[0m     \u001b[38;5;28mprint\u001b[39m(x)\n\u001b[1;32m----> 5\u001b[0m fun()\n",
      "Cell \u001b[1;32mIn[51], line 3\u001b[0m, in \u001b[0;36mfun\u001b[1;34m()\u001b[0m\n\u001b[0;32m      2\u001b[0m \u001b[38;5;28;01mdef\u001b[39;00m \u001b[38;5;21mfun\u001b[39m():\n\u001b[1;32m----> 3\u001b[0m     x\u001b[38;5;241m=\u001b[39mx\u001b[38;5;241m+\u001b[39m\u001b[38;5;241m2\u001b[39m\n\u001b[0;32m      4\u001b[0m     \u001b[38;5;28mprint\u001b[39m(x)\n",
      "\u001b[1;31mUnboundLocalError\u001b[0m: cannot access local variable 'x' where it is not associated with a value"
     ]
    }
   ],
   "source": [
    "x=10\n",
    "def fun():\n",
    "    x=x+2\n",
    "    print(x)\n",
    "fun()"
   ]
  },
  {
   "cell_type": "code",
   "execution_count": 52,
   "id": "fa3c1231-fd42-411e-a773-d9ea529fe2f0",
   "metadata": {},
   "outputs": [
    {
     "name": "stdout",
     "output_type": "stream",
     "text": [
      "12\n",
      "13\n"
     ]
    }
   ],
   "source": [
    "x=10\n",
    "def fun():\n",
    "    global x\n",
    "    x=x+2\n",
    "    print(x)\n",
    "fun()\n",
    "x=x+1\n",
    "print(x)"
   ]
  },
  {
   "cell_type": "code",
   "execution_count": 54,
   "id": "64a93c43-6d16-4630-9154-d4113b0080a3",
   "metadata": {},
   "outputs": [
    {
     "name": "stdout",
     "output_type": "stream",
     "text": [
      "Inner\n",
      "Outer\n",
      "Global\n"
     ]
    }
   ],
   "source": [
    "x=\"Global\" #global variable\n",
    "def outer():\n",
    "    x=\"Outer\" #local variable\n",
    "    def inner():\n",
    "        y=\"Inner\" #non local variable\n",
    "        print(y)\n",
    "    inner()\n",
    "    print(x)\n",
    "outer()\n",
    "print(x)"
   ]
  },
  {
   "cell_type": "code",
   "execution_count": 55,
   "id": "3284ffb3-cdfa-46c8-a33e-4aec611de75b",
   "metadata": {},
   "outputs": [
    {
     "name": "stdout",
     "output_type": "stream",
     "text": [
      "Inner Outer Global\n",
      "Global\n",
      "Global\n"
     ]
    }
   ],
   "source": [
    "x=\"Global\" #global variable\n",
    "def outer():\n",
    "    y=\"Outer\" #local variable\n",
    "    def inner():\n",
    "        z=\"Inner\" #non local variable\n",
    "        print(z,y,x)\n",
    "    inner()\n",
    "    print(x)\n",
    "outer()\n",
    "print(x)"
   ]
  },
  {
   "cell_type": "code",
   "execution_count": 56,
   "id": "5b3456d6-79b4-4d4a-b303-6bc4de4b8c7d",
   "metadata": {},
   "outputs": [
    {
     "name": "stdout",
     "output_type": "stream",
     "text": [
      "Inner Outer Global\n",
      "Global Outer\n"
     ]
    },
    {
     "ename": "NameError",
     "evalue": "name 'y' is not defined",
     "output_type": "error",
     "traceback": [
      "\u001b[1;31m---------------------------------------------------------------------------\u001b[0m",
      "\u001b[1;31mNameError\u001b[0m                                 Traceback (most recent call last)",
      "Cell \u001b[1;32mIn[56], line 10\u001b[0m\n\u001b[0;32m      8\u001b[0m     \u001b[38;5;28mprint\u001b[39m(x,y)\n\u001b[0;32m      9\u001b[0m outer()\n\u001b[1;32m---> 10\u001b[0m \u001b[38;5;28mprint\u001b[39m(x,y,z)\n",
      "\u001b[1;31mNameError\u001b[0m: name 'y' is not defined"
     ]
    }
   ],
   "source": [
    "x=\"Global\" #global variable\n",
    "def outer():\n",
    "    y=\"Outer\" #local variable\n",
    "    def inner():\n",
    "        z=\"Inner\" #non local variable\n",
    "        print(z,y,x)\n",
    "    inner()\n",
    "    print(x,y)\n",
    "outer()\n",
    "print(x,y,z)"
   ]
  },
  {
   "cell_type": "code",
   "execution_count": 57,
   "id": "03ee9f9a-9b22-4b91-b5f8-675a7e76d548",
   "metadata": {},
   "outputs": [
    {
     "ename": "SyntaxError",
     "evalue": "name 'x' is assigned to before global declaration (2554284709.py, line 3)",
     "output_type": "error",
     "traceback": [
      "\u001b[1;36m  Cell \u001b[1;32mIn[57], line 3\u001b[1;36m\u001b[0m\n\u001b[1;33m    global x\u001b[0m\n\u001b[1;37m    ^\u001b[0m\n\u001b[1;31mSyntaxError\u001b[0m\u001b[1;31m:\u001b[0m name 'x' is assigned to before global declaration\n"
     ]
    }
   ],
   "source": [
    "def fun():\n",
    "    x=10\n",
    "    global x\n",
    "print(x)"
   ]
  },
  {
   "cell_type": "code",
   "execution_count": 59,
   "id": "6ec6e667-ba9e-444b-b091-5f6027f05692",
   "metadata": {},
   "outputs": [
    {
     "ename": "SyntaxError",
     "evalue": "parameter without a default follows parameter with a default (3003928932.py, line 1)",
     "output_type": "error",
     "traceback": [
      "\u001b[1;36m  Cell \u001b[1;32mIn[59], line 1\u001b[1;36m\u001b[0m\n\u001b[1;33m    def func(a,b=2,c):\u001b[0m\n\u001b[1;37m                   ^\u001b[0m\n\u001b[1;31mSyntaxError\u001b[0m\u001b[1;31m:\u001b[0m parameter without a default follows parameter with a default\n"
     ]
    }
   ],
   "source": [
    "def func(a,b=2,c):\n",
    "    print(a,b,c)\n",
    "fun(20,30,40)"
   ]
  },
  {
   "cell_type": "code",
   "execution_count": 11,
   "id": "e8f0bbf1-d743-4aa0-8a3d-05cba03d01f2",
   "metadata": {},
   "outputs": [
    {
     "name": "stdin",
     "output_type": "stream",
     "text": [
      "enter value of n: 10\n"
     ]
    },
    {
     "name": "stdout",
     "output_type": "stream",
     "text": [
      "0\n",
      "2\n",
      "4\n",
      "6\n",
      "8\n",
      "10\n",
      "12\n",
      "14\n",
      "16\n",
      "18\n"
     ]
    }
   ],
   "source": [
    "#write a function program,that returns n even numbers\n",
    "def get_even_numbers(n):\n",
    "    even_numbers=[]\n",
    "    for i in range(n):\n",
    "        even_numbers.append(i*2)\n",
    "    return even_numbers\n",
    "n=int(input(\"enter value of n:\"))\n",
    "result=get_even_numbers(n)\n",
    "for num in result:\n",
    "    print (num)\n",
    "      "
   ]
  },
  {
   "cell_type": "code",
   "execution_count": 27,
   "id": "0c6bdbc5-f7a0-4e6b-b35b-20ddfb09a7b8",
   "metadata": {},
   "outputs": [
    {
     "name": "stdout",
     "output_type": "stream",
     "text": [
      "[0]\n",
      "[0, 2]\n",
      "[0, 2, 4]\n",
      "[0, 2, 4, 6]\n",
      "[0, 2, 4, 6, 8]\n",
      "[0, 2, 4, 6, 8, 10]\n",
      "[0, 2, 4, 6, 8, 10, 12]\n",
      "[0, 2, 4, 6, 8, 10, 12, 14]\n",
      "[0, 2, 4, 6, 8, 10, 12, 14, 16]\n",
      "[0, 2, 4, 6, 8, 10, 12, 14, 16, 18]\n"
     ]
    }
   ],
   "source": [
    "n=10\n",
    "l=[]\n",
    "for i in range(n):\n",
    "    l.append(i*2)\n",
    "    print(l)"
   ]
  },
  {
   "cell_type": "code",
   "execution_count": 28,
   "id": "2dd18cdd-ccd7-4900-a36f-140d307eb1d0",
   "metadata": {},
   "outputs": [
    {
     "name": "stdout",
     "output_type": "stream",
     "text": [
      "[0, 2, 4, 6, 8, 10, 12, 14, 16, 18]\n"
     ]
    }
   ],
   "source": [
    "n=10\n",
    "l=[]\n",
    "for i in range(0,2*n):\n",
    "    if i%2==0:\n",
    "        l.append(i)\n",
    "print(l)"
   ]
  },
  {
   "cell_type": "code",
   "execution_count": 29,
   "id": "8c83425f-a564-4623-9857-76d2a7793674",
   "metadata": {},
   "outputs": [
    {
     "name": "stdout",
     "output_type": "stream",
     "text": [
      "[1, 3, 5, 7, 9, 11, 13, 15, 17, 19]\n"
     ]
    }
   ],
   "source": [
    "#write a function program.that returns n odd numbers\n",
    "n=10\n",
    "l=[]\n",
    "for i in range(n):\n",
    "    l.append(2*i+1)\n",
    "print(l)"
   ]
  },
  {
   "cell_type": "code",
   "execution_count": 35,
   "id": "3853a0c2-67a9-4ab1-8a3c-a7b0ca5d10ae",
   "metadata": {},
   "outputs": [
    {
     "name": "stdout",
     "output_type": "stream",
     "text": [
      "[0, 2, 4, 6, 8, 10, 12, 14, 16, 18]\n"
     ]
    }
   ],
   "source": [
    "def first_n_even(n):\n",
    "    l=[]\n",
    "    for i in range(n):\n",
    "        l.append(2*i)\n",
    "    return l\n",
    "\n",
    "result=first_n_even(10)\n",
    "print(result)"
   ]
  },
  {
   "cell_type": "code",
   "execution_count": 36,
   "id": "a5f3d7fb-2e0d-4cd1-8769-46a7ba67a7d5",
   "metadata": {},
   "outputs": [
    {
     "name": "stdout",
     "output_type": "stream",
     "text": [
      "[1, 3, 5, 7, 9, 11, 13, 15, 17, 19]\n"
     ]
    }
   ],
   "source": [
    "def first_n_odd(n):\n",
    "    l=[]\n",
    "    for i in range(n):\n",
    "        l.append(2*i+1)\n",
    "    return l\n",
    "result=first_n_odd(10)\n",
    "print(result)"
   ]
  },
  {
   "cell_type": "code",
   "execution_count": 41,
   "id": "d78a0c2d-e94e-4ca1-a4c2-674fb3972c08",
   "metadata": {},
   "outputs": [],
   "source": [
    "##Build in function"
   ]
  },
  {
   "cell_type": "code",
   "execution_count": 42,
   "id": "768a5cee-f1b1-49b3-b296-343696b8b38b",
   "metadata": {},
   "outputs": [
    {
     "name": "stdout",
     "output_type": "stream",
     "text": [
      "10\n"
     ]
    }
   ],
   "source": [
    "print(abs(-10))\n"
   ]
  },
  {
   "cell_type": "code",
   "execution_count": 43,
   "id": "65f75989-974e-4b35-836b-b7e20de99838",
   "metadata": {},
   "outputs": [
    {
     "name": "stdout",
     "output_type": "stream",
     "text": [
      "[3, 2, 1]\n"
     ]
    }
   ],
   "source": [
    "res=reversed([1,2,3])\n",
    "print(list(res))"
   ]
  },
  {
   "cell_type": "code",
   "execution_count": 46,
   "id": "daace6c2-beea-4c94-89a2-d1cc355c005b",
   "metadata": {},
   "outputs": [
    {
     "name": "stdout",
     "output_type": "stream",
     "text": [
      "6\n",
      "7\n",
      "8\n",
      "9\n"
     ]
    }
   ],
   "source": [
    "#map\n",
    "def add(x):\n",
    "    return x +5\n",
    "print(add(1))\n",
    "print(add(2))\n",
    "print(add(3))\n",
    "print(add(4))"
   ]
  },
  {
   "cell_type": "code",
   "execution_count": 50,
   "id": "0e4a3421-8f95-4699-b85d-e449a98f5bef",
   "metadata": {},
   "outputs": [
    {
     "data": {
      "text/plain": [
       "(6, 7, 8, 9, 10)"
      ]
     },
     "execution_count": 50,
     "metadata": {},
     "output_type": "execute_result"
    }
   ],
   "source": [
    "def add(x):\n",
    "    return x +5\n",
    "l=[1,2,3,4,5]\n",
    "tuple(map(add, l))"
   ]
  },
  {
   "cell_type": "code",
   "execution_count": 49,
   "id": "2eb9cadf-55d5-40b7-975b-7b1f561752b7",
   "metadata": {},
   "outputs": [
    {
     "data": {
      "text/plain": [
       "(2, 4)"
      ]
     },
     "execution_count": 49,
     "metadata": {},
     "output_type": "execute_result"
    }
   ],
   "source": [
    "def add(x):\n",
    "    if x%2==0:\n",
    "        return x\n",
    "l=[1,2,3,4,5]\n",
    "tuple(filter(add,l))"
   ]
  },
  {
   "cell_type": "code",
   "execution_count": 51,
   "id": "83e484b6-416d-42f5-ae6c-1debdc24bdce",
   "metadata": {},
   "outputs": [
    {
     "name": "stdout",
     "output_type": "stream",
     "text": [
      "<zip object at 0x000001D6731CB880>\n"
     ]
    }
   ],
   "source": [
    "#zip\n",
    "l1=[1,2,3,4,5]\n",
    "l2=['a','b','c','d','e']\n",
    "print(zip(l1,l2))"
   ]
  },
  {
   "cell_type": "code",
   "execution_count": 53,
   "id": "5ab78d82-2d6a-45c5-badb-8071a2ad7c1e",
   "metadata": {},
   "outputs": [
    {
     "name": "stdout",
     "output_type": "stream",
     "text": [
      "[(1, 'a'), (2, 'b'), (3, 'c'), (4, 'd'), (5, 'e')]\n"
     ]
    }
   ],
   "source": [
    "l1=[1,2,3,4,5]\n",
    "l2=['a','b','c','d','e']\n",
    "print(list(zip(l1,l2)))"
   ]
  },
  {
   "cell_type": "code",
   "execution_count": 54,
   "id": "47be492f-2494-4d1e-97cf-d8141e765929",
   "metadata": {},
   "outputs": [
    {
     "name": "stdout",
     "output_type": "stream",
     "text": [
      "[(1, 'a', 10), (2, 'b', 20), (3, 'c', 30), (4, 'd', 40), (5, 'e', 50)]\n"
     ]
    }
   ],
   "source": [
    "l1=[1,2,3,4,5]\n",
    "l2=['a','b','c','d','e']\n",
    "l3=[10,20,30,40,50]\n",
    "print(list(zip(l1,l2,l3)))"
   ]
  },
  {
   "cell_type": "code",
   "execution_count": 57,
   "id": "f2b3fc29-f9a9-43ba-81fd-6302508d05a2",
   "metadata": {},
   "outputs": [
    {
     "name": "stdout",
     "output_type": "stream",
     "text": [
      "[(0, 'a'), (1, 'b'), (2, 'c'), (3, 'd'), (4, 'e')]\n"
     ]
    }
   ],
   "source": [
    "#enmerate\n",
    "l2=['a','b','c','d','e']\n",
    "print(list(enumerate(l2))"
   ]
  },
  {
   "cell_type": "code",
   "execution_count": 58,
   "id": "033b1fde-49ce-4be3-b2e0-35adf8f2f0a7",
   "metadata": {},
   "outputs": [
    {
     "name": "stdout",
     "output_type": "stream",
     "text": [
      "0 a\n",
      "1 b\n",
      "2 c\n",
      "3 d\n",
      "4 e\n"
     ]
    }
   ],
   "source": [
    "l2=['a','b','c','d','e']\n",
    "for ind,val in enumerate(l2):\n",
    "    print(ind,val)"
   ]
  },
  {
   "cell_type": "code",
   "execution_count": 60,
   "id": "e59b3de7-72a4-4e70-b927-f5fb905b8521",
   "metadata": {},
   "outputs": [
    {
     "name": "stdout",
     "output_type": "stream",
     "text": [
      "True\n"
     ]
    }
   ],
   "source": [
    "#any\n",
    "print(any([1,2,3,4,5,0]))"
   ]
  },
  {
   "cell_type": "code",
   "execution_count": 62,
   "id": "e1b825e6-871b-4116-9d78-538467a8dd5e",
   "metadata": {},
   "outputs": [
    {
     "name": "stdout",
     "output_type": "stream",
     "text": [
      "True\n",
      "True\n"
     ]
    }
   ],
   "source": [
    "print(any([1,2,3,4,5]))\n",
    "print(any([1,0,0,0,0]))"
   ]
  },
  {
   "cell_type": "code",
   "execution_count": 63,
   "id": "1014e805-7dc0-40a7-aa44-470c09238143",
   "metadata": {},
   "outputs": [
    {
     "name": "stdout",
     "output_type": "stream",
     "text": [
      "True\n",
      "False\n"
     ]
    }
   ],
   "source": [
    "print(all([1,2,3,4,5]))\n",
    "print(all([1,0,0,0,0]))"
   ]
  },
  {
   "cell_type": "code",
   "execution_count": 64,
   "id": "f9374c6f-b532-403a-a6d6-6e3a76874516",
   "metadata": {},
   "outputs": [
    {
     "name": "stdout",
     "output_type": "stream",
     "text": [
      "65\n",
      "97\n"
     ]
    }
   ],
   "source": [
    "#ord\n",
    "print(ord('A'))\n",
    "print(ord('a'))"
   ]
  },
  {
   "cell_type": "code",
   "execution_count": 3,
   "id": "439c5d1c-f06d-4e3b-bbd4-4eba5ea1e9c0",
   "metadata": {},
   "outputs": [
    {
     "name": "stdout",
     "output_type": "stream",
     "text": [
      "a\n",
      "c\n"
     ]
    }
   ],
   "source": [
    "#chr\n",
    "print(chr(97))\n",
    "print(chr(99))"
   ]
  },
  {
   "cell_type": "code",
   "execution_count": 1,
   "id": "9960bf84-078d-43a7-ac3d-c5c1f1f1d97b",
   "metadata": {},
   "outputs": [
    {
     "name": "stdout",
     "output_type": "stream",
     "text": [
      "['ArithmeticError', 'AssertionError', 'AttributeError', 'BaseException', 'BaseExceptionGroup', 'BlockingIOError', 'BrokenPipeError', 'BufferError', 'BytesWarning', 'ChildProcessError', 'ConnectionAbortedError', 'ConnectionError', 'ConnectionRefusedError', 'ConnectionResetError', 'DeprecationWarning', 'EOFError', 'Ellipsis', 'EncodingWarning', 'EnvironmentError', 'Exception', 'ExceptionGroup', 'False', 'FileExistsError', 'FileNotFoundError', 'FloatingPointError', 'FutureWarning', 'GeneratorExit', 'IOError', 'ImportError', 'ImportWarning', 'IndentationError', 'IndexError', 'InterruptedError', 'IsADirectoryError', 'KeyError', 'KeyboardInterrupt', 'LookupError', 'MemoryError', 'ModuleNotFoundError', 'NameError', 'None', 'NotADirectoryError', 'NotImplemented', 'NotImplementedError', 'OSError', 'OverflowError', 'PendingDeprecationWarning', 'PermissionError', 'ProcessLookupError', 'RecursionError', 'ReferenceError', 'ResourceWarning', 'RuntimeError', 'RuntimeWarning', 'StopAsyncIteration', 'StopIteration', 'SyntaxError', 'SyntaxWarning', 'SystemError', 'SystemExit', 'TabError', 'TimeoutError', 'True', 'TypeError', 'UnboundLocalError', 'UnicodeDecodeError', 'UnicodeEncodeError', 'UnicodeError', 'UnicodeTranslateError', 'UnicodeWarning', 'UserWarning', 'ValueError', 'Warning', 'WindowsError', 'ZeroDivisionError', '__IPYTHON__', '__build_class__', '__debug__', '__doc__', '__import__', '__loader__', '__name__', '__package__', '__spec__', 'abs', 'aiter', 'all', 'anext', 'any', 'ascii', 'bin', 'bool', 'breakpoint', 'bytearray', 'bytes', 'callable', 'chr', 'classmethod', 'compile', 'complex', 'copyright', 'credits', 'delattr', 'dict', 'dir', 'display', 'divmod', 'enumerate', 'eval', 'exec', 'execfile', 'filter', 'float', 'format', 'frozenset', 'get_ipython', 'getattr', 'globals', 'hasattr', 'hash', 'help', 'hex', 'id', 'input', 'int', 'isinstance', 'issubclass', 'iter', 'len', 'license', 'list', 'locals', 'map', 'max', 'memoryview', 'min', 'next', 'object', 'oct', 'open', 'ord', 'pow', 'print', 'property', 'range', 'repr', 'reversed', 'round', 'runfile', 'set', 'setattr', 'slice', 'sorted', 'staticmethod', 'str', 'sum', 'super', 'tuple', 'type', 'vars', 'zip']\n"
     ]
    }
   ],
   "source": [
    "print(dir(__builtins__))"
   ]
  },
  {
   "cell_type": "code",
   "execution_count": null,
   "id": "db2b2428-8f30-4aff-b883-fc499b8a95b9",
   "metadata": {},
   "outputs": [],
   "source": []
  },
  {
   "cell_type": "code",
   "execution_count": null,
   "id": "585d646a-020c-4269-9357-38b85a10ce63",
   "metadata": {},
   "outputs": [],
   "source": []
  }
 ],
 "metadata": {
  "kernelspec": {
   "display_name": "Python [conda env:base] *",
   "language": "python",
   "name": "conda-base-py"
  },
  "language_info": {
   "codemirror_mode": {
    "name": "ipython",
    "version": 3
   },
   "file_extension": ".py",
   "mimetype": "text/x-python",
   "name": "python",
   "nbconvert_exporter": "python",
   "pygments_lexer": "ipython3",
   "version": "3.12.7"
  }
 },
 "nbformat": 4,
 "nbformat_minor": 5
}
